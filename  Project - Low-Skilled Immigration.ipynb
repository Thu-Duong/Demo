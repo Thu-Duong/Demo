{
 "cells": [
  {
   "cell_type": "markdown",
   "metadata": {},
   "source": [
    "## Replication Low-Skilled Immigration and the Labor Supply of Highly Skilled Women- Patricia Cortés and José Tessada"
   ]
  },
  {
   "cell_type": "markdown",
   "metadata": {},
   "source": [
    "Project for the course in Microeconometrics | Summer 2020, M.Sc. Economics, Bonn University | Anh-Thu Duong"
   ]
  },
  {
   "cell_type": "markdown",
   "metadata": {},
   "source": [
    "This notebook contains my replication of the results from the following paper:\n",
    "\n",
    "> Cortés, Patricia, and José Tessada. 2011. \"Low-Skilled Immigration and the Labor Supply of Highly Skilled Women.\" American Economic Journal: Applied Economics, 3 (3): 88-123\n",
    "\n",
    "##### Information about replication and individual contributions:\n",
    "* The original paper, as well as the data and code provided by the authors can be accessed \\\n",
    "(https://www.aeaweb.org/articles?id=10.1257/app.3.3.88).\n",
    "\n",
    "* For the replication, I try to remain true to the original structure of the paper so readers can easily follow along and compare. All tables and figures are named and labeled as they appear in original paper.\n",
    "\n",
    "\n",
    "* The tables in my replication appear transposed compared to the original tables to suit my workflow in Python.\n",
    "\n",
    "\n",
    "* For transparency, all sections in the replication that constitute independent contributions by me and are not part of results presented (or include deviations from the methods used) in the paper are marked as _extensions_."
   ]
  },
  {
   "cell_type": "code",
   "execution_count": 1,
   "metadata": {},
   "outputs": [],
   "source": [
    "%matplotlib inline\n",
    "import numpy as np\n",
    "import pandas as pd\n",
    "import seaborn as sns\n",
    "import matplotlib as plt\n",
    "import statsmodels.api as sm\n",
    "from statsmodels.formula.api import ols,wls\n",
    "from sklearn.preprocessing import LabelEncoder"
   ]
  },
  {
   "cell_type": "code",
   "execution_count": 2,
   "metadata": {},
   "outputs": [],
   "source": [
    "from auxiliary.auxiliary_datasets import *\n",
    "from auxiliary.auxiliary_tables import *\n",
    "from auxiliary.auxiliary_functions import *\n",
    "from auxiliary.auxiliary_plots import *"
   ]
  },
  {
   "cell_type": "code",
   "execution_count": 3,
   "metadata": {},
   "outputs": [],
   "source": [
    "from auxiliary.auxiliary_regs import *"
   ]
  },
  {
   "cell_type": "markdown",
   "metadata": {},
   "source": [
    "# Table of Contents\n",
    "\n",
    "<div class=\"alert alert-block alert-info\" style=\"margin-top: 20px\">\n",
    "\n",
    "1. [Table 1](#0)<br>\n",
    "2. [Table 2](#2)<br>\n",
    "3. [Table 3](#4) <br>\n",
    "4. [Table 4](#6) <br>\n",
    "5. [Table 5](#8) <br>\n",
    "6. [Table 6](#10) <br>\n",
    "</div>\n",
    "<hr>"
   ]
  },
  {
   "cell_type": "markdown",
   "metadata": {},
   "source": [
    "## I.Introduction"
   ]
  },
  {
   "cell_type": "markdown",
   "metadata": {},
   "source": [
    "If, as found by Cortes (2008), the recent waves of low-skilled immigration have led to lower prices of services that are close substitutes for household production, we should expect natives to substitute their own time invested in the production of \n",
    "household goods with the purchase of the now cheaper services available in the market. The link between immigration and changes in the prices of these market-provided household services indicates that even without a direct effect on wages, \n",
    "low-skilled immigration has the potential to generate effects on natives’ decisions related to time use.\n",
    "This paper studies this unexplored channel, focusing particularly on the impact that low-skilled immigration has on female labor supply. We first develop a simple model to investigate which groups of the female population are more likely to change their time-use decisions as prices for household related services decrease; we then test the model’s predictions using census data on immigration and labor supply, and information on time devoted to household work and reported expenditures on housekeeping services.Our empirical strategy is to exploit the cross-city variation in the concentration of low-skilled immigrants. To address the potential endogeneity of the location choices of immigrants, we instrument for low skilled immigrant concentration using the historical (1970) distribution of immigrants of a country to predict the location choices of recent immigrant flows."
   ]
  },
  {
   "cell_type": "markdown",
   "metadata": {},
   "source": [
    "## II. Theoretical Framework"
   ]
  },
  {
   "cell_type": "markdown",
   "metadata": {},
   "source": [
    "In this section, we present a simple time-use model that illustrates the interactions between wage levels, the decision to purchase household services, the market price of household services, and labor supply. Its purpose is to derive implications about which groups of the population are more likely to change their time-use decisions as prices for household related services decrease. At the end of the section we also investigate if women who face larger household demands (for example, women with young children) display a differential sensitivity to prices, and discuss how career concerns might interact with the price of household services."
   ]
  },
  {
   "cell_type": "markdown",
   "metadata": {},
   "source": [
    "*A. Set up*"
   ]
  },
  {
   "cell_type": "markdown",
   "metadata": {},
   "source": [
    "Denote by y the amount of the consumption good, l the hours of leisure, h the \n",
    "hours of household work, n the hours of market work, x the units of the house-\n",
    "hold service purchased on the market, and I the nonwage income of the household. \n",
    "Assume that there is only one working agent per household and normalize total time \n",
    "available to the agent to 1.\n",
    "Utility is given by\n",
    "\\begin{equation}\n",
    "u (y) + ψ(l)\n",
    "\\end{equation}\n",
    "\n",
    "where u (⋅) and ψ (⋅) are concave and satisfy u′  (y) → ∞ as y → 0 and ψ\n",
    "as l → 0. Household production is described by the function f (h), which we\n",
    "to have decreasing marginal returns to time spent working at home and\n",
    "f ′ (h) → ∞ as h → 0. This condition implies that a person will never outsource\n",
    "of her household work. The agent also faces two constraints: a budget constraint a time constraint (which can be reduced into a full income constraint)."
   ]
  },
  {
   "cell_type": "markdown",
   "metadata": {},
   "source": [
    "*B. The Effects of an Inflow of Low-Skilled Immigrants*"
   ]
  },
  {
   "cell_type": "markdown",
   "metadata": {},
   "source": [
    "*Effect on Household Work (h)* \\\n",
    "\n",
    "*Effect on Labor Supply (n)*\n",
    "The effect on n will depend on how hours worked in household production and \n",
    "leisure change after a decrease in p. From the previous subsection, it is clear that ∂h* /∂p > 0. Given that changes in p keep the relative price of leisure versus consumption good unchanged, the effect on leisure happens through a change in disposable income only. Its direction will depend on whether leisure is a normal or inferior good. If leisure is an inferior good or if it doesn’t respond to income changes, then hours worked in the market are going to unambiguously increase when p goes down. If leisure is a normal good (as in our case because the utility function is separable \n",
    "\n",
    "*Household Composition: Children at Home*\n",
    "\n",
    "*Labor Force participation and the decision to purchase Household Services*\n",
    "\n",
    "*Sensitivity to Changes in prices of Household Services*\n",
    "\n",
    "*Career Concerns*"
   ]
  },
  {
   "cell_type": "markdown",
   "metadata": {},
   "source": [
    "## III. Data and Descriptive Statistics"
   ]
  },
  {
   "cell_type": "markdown",
   "metadata": {},
   "source": [
    "We now describe the basic details of the data we use to measure immigration, labor market outcomes, and household production outcomes.\n",
    "\n",
    "*Immigration data*\n",
    "This paper uses the 5 percent sample of the 1980, 1990, and 2000 Census Integrated Public Use Microdata Samples to measure the concentration of low-skilled immigrants among cities.16 Low-skilled workers are defined as those who have not completed high school and an immigrant is defined as someone who reports being a naturalized citizen or not being a citizen. We restrict the sample to people age 16–64 who report being in the labor force and not enrolled in school.\n",
    "\n",
    "Table 1 shows the evolution of the share of low-skilled immigrants in the labor force for the 30 largest cities in the United States. As observed, there is significant variation in immigrant concentration both across cities and through time. This is the \n",
    "variation we will exploit in our empirical strategy."
   ]
  },
  {
   "cell_type": "code",
   "execution_count": 5,
   "metadata": {},
   "outputs": [
    {
     "data": {
      "text/html": [
       "<style  type=\"text/css\" >\n",
       "</style><table id=\"T_ea5857ac_9b83_11ea_957b_1062e5f5bb75\" ><caption>Table 1—Share of Low-Skilled Immigrants in the Labor Force</caption><thead>    <tr>        <th class=\"index_name level0\" > </th>        <th class=\"col_heading level0 col0\" >1980</th>        <th class=\"col_heading level0 col1\" >1990</th>        <th class=\"col_heading level0 col2\" >2000</th>    </tr>    <tr>        <th class=\"index_name level0\" >City</th>        <th class=\"blank\" ></th>        <th class=\"blank\" ></th>        <th class=\"blank\" ></th>    </tr></thead><tbody>\n",
       "                <tr>\n",
       "                        <th id=\"T_ea5857ac_9b83_11ea_957b_1062e5f5bb75level0_row0\" class=\"row_heading level0 row0\" >Atlanta</th>\n",
       "                        <td id=\"T_ea5857ac_9b83_11ea_957b_1062e5f5bb75row0_col0\" class=\"data row0 col0\" >0.38%</td>\n",
       "                        <td id=\"T_ea5857ac_9b83_11ea_957b_1062e5f5bb75row0_col1\" class=\"data row0 col1\" >0.84%</td>\n",
       "                        <td id=\"T_ea5857ac_9b83_11ea_957b_1062e5f5bb75row0_col2\" class=\"data row0 col2\" >3.23%</td>\n",
       "            </tr>\n",
       "            <tr>\n",
       "                        <th id=\"T_ea5857ac_9b83_11ea_957b_1062e5f5bb75level0_row1\" class=\"row_heading level0 row1\" >Baltimore</th>\n",
       "                        <td id=\"T_ea5857ac_9b83_11ea_957b_1062e5f5bb75row1_col0\" class=\"data row1 col0\" >0.76%</td>\n",
       "                        <td id=\"T_ea5857ac_9b83_11ea_957b_1062e5f5bb75row1_col1\" class=\"data row1 col1\" >0.44%</td>\n",
       "                        <td id=\"T_ea5857ac_9b83_11ea_957b_1062e5f5bb75row1_col2\" class=\"data row1 col2\" >0.67%</td>\n",
       "            </tr>\n",
       "            <tr>\n",
       "                        <th id=\"T_ea5857ac_9b83_11ea_957b_1062e5f5bb75level0_row2\" class=\"row_heading level0 row2\" >Boston</th>\n",
       "                        <td id=\"T_ea5857ac_9b83_11ea_957b_1062e5f5bb75row2_col0\" class=\"data row2 col0\" >3.53%</td>\n",
       "                        <td id=\"T_ea5857ac_9b83_11ea_957b_1062e5f5bb75row2_col1\" class=\"data row2 col1\" >2.71%</td>\n",
       "                        <td id=\"T_ea5857ac_9b83_11ea_957b_1062e5f5bb75row2_col2\" class=\"data row2 col2\" >2.62%</td>\n",
       "            </tr>\n",
       "            <tr>\n",
       "                        <th id=\"T_ea5857ac_9b83_11ea_957b_1062e5f5bb75level0_row3\" class=\"row_heading level0 row3\" >Buffalo</th>\n",
       "                        <td id=\"T_ea5857ac_9b83_11ea_957b_1062e5f5bb75row3_col0\" class=\"data row3 col0\" >1.48%</td>\n",
       "                        <td id=\"T_ea5857ac_9b83_11ea_957b_1062e5f5bb75row3_col1\" class=\"data row3 col1\" >0.72%</td>\n",
       "                        <td id=\"T_ea5857ac_9b83_11ea_957b_1062e5f5bb75row3_col2\" class=\"data row3 col2\" >0.47%</td>\n",
       "            </tr>\n",
       "            <tr>\n",
       "                        <th id=\"T_ea5857ac_9b83_11ea_957b_1062e5f5bb75level0_row4\" class=\"row_heading level0 row4\" >Chicago</th>\n",
       "                        <td id=\"T_ea5857ac_9b83_11ea_957b_1062e5f5bb75row4_col0\" class=\"data row4 col0\" >4.99%</td>\n",
       "                        <td id=\"T_ea5857ac_9b83_11ea_957b_1062e5f5bb75row4_col1\" class=\"data row4 col1\" >5.09%</td>\n",
       "                        <td id=\"T_ea5857ac_9b83_11ea_957b_1062e5f5bb75row4_col2\" class=\"data row4 col2\" >5.86%</td>\n",
       "            </tr>\n",
       "            <tr>\n",
       "                        <th id=\"T_ea5857ac_9b83_11ea_957b_1062e5f5bb75level0_row5\" class=\"row_heading level0 row5\" >Cincinnati</th>\n",
       "                        <td id=\"T_ea5857ac_9b83_11ea_957b_1062e5f5bb75row5_col0\" class=\"data row5 col0\" >0.44%</td>\n",
       "                        <td id=\"T_ea5857ac_9b83_11ea_957b_1062e5f5bb75row5_col1\" class=\"data row5 col1\" >0.23%</td>\n",
       "                        <td id=\"T_ea5857ac_9b83_11ea_957b_1062e5f5bb75row5_col2\" class=\"data row5 col2\" >0.34%</td>\n",
       "            </tr>\n",
       "            <tr>\n",
       "                        <th id=\"T_ea5857ac_9b83_11ea_957b_1062e5f5bb75level0_row6\" class=\"row_heading level0 row6\" >Cleveland</th>\n",
       "                        <td id=\"T_ea5857ac_9b83_11ea_957b_1062e5f5bb75row6_col0\" class=\"data row6 col0\" >1.82%</td>\n",
       "                        <td id=\"T_ea5857ac_9b83_11ea_957b_1062e5f5bb75row6_col1\" class=\"data row6 col1\" >0.89%</td>\n",
       "                        <td id=\"T_ea5857ac_9b83_11ea_957b_1062e5f5bb75row6_col2\" class=\"data row6 col2\" >0.65%</td>\n",
       "            </tr>\n",
       "            <tr>\n",
       "                        <th id=\"T_ea5857ac_9b83_11ea_957b_1062e5f5bb75level0_row7\" class=\"row_heading level0 row7\" >Columbus</th>\n",
       "                        <td id=\"T_ea5857ac_9b83_11ea_957b_1062e5f5bb75row7_col0\" class=\"data row7 col0\" >0.43%</td>\n",
       "                        <td id=\"T_ea5857ac_9b83_11ea_957b_1062e5f5bb75row7_col1\" class=\"data row7 col1\" >0.25%</td>\n",
       "                        <td id=\"T_ea5857ac_9b83_11ea_957b_1062e5f5bb75row7_col2\" class=\"data row7 col2\" >0.81%</td>\n",
       "            </tr>\n",
       "            <tr>\n",
       "                        <th id=\"T_ea5857ac_9b83_11ea_957b_1062e5f5bb75level0_row8\" class=\"row_heading level0 row8\" >Dallas-Fort Worth</th>\n",
       "                        <td id=\"T_ea5857ac_9b83_11ea_957b_1062e5f5bb75row8_col0\" class=\"data row8 col0\" >2.13%</td>\n",
       "                        <td id=\"T_ea5857ac_9b83_11ea_957b_1062e5f5bb75row8_col1\" class=\"data row8 col1\" >5.17%</td>\n",
       "                        <td id=\"T_ea5857ac_9b83_11ea_957b_1062e5f5bb75row8_col2\" class=\"data row8 col2\" >8.63%</td>\n",
       "            </tr>\n",
       "            <tr>\n",
       "                        <th id=\"T_ea5857ac_9b83_11ea_957b_1062e5f5bb75level0_row9\" class=\"row_heading level0 row9\" >Denver-Boulder</th>\n",
       "                        <td id=\"T_ea5857ac_9b83_11ea_957b_1062e5f5bb75row9_col0\" class=\"data row9 col0\" >1.18%</td>\n",
       "                        <td id=\"T_ea5857ac_9b83_11ea_957b_1062e5f5bb75row9_col1\" class=\"data row9 col1\" >1.42%</td>\n",
       "                        <td id=\"T_ea5857ac_9b83_11ea_957b_1062e5f5bb75row9_col2\" class=\"data row9 col2\" >4.13%</td>\n",
       "            </tr>\n",
       "            <tr>\n",
       "                        <th id=\"T_ea5857ac_9b83_11ea_957b_1062e5f5bb75level0_row10\" class=\"row_heading level0 row10\" >Detroit</th>\n",
       "                        <td id=\"T_ea5857ac_9b83_11ea_957b_1062e5f5bb75row10_col0\" class=\"data row10 col0\" >1.76%</td>\n",
       "                        <td id=\"T_ea5857ac_9b83_11ea_957b_1062e5f5bb75row10_col1\" class=\"data row10 col1\" >0.93%</td>\n",
       "                        <td id=\"T_ea5857ac_9b83_11ea_957b_1062e5f5bb75row10_col2\" class=\"data row10 col2\" >1.35%</td>\n",
       "            </tr>\n",
       "            <tr>\n",
       "                        <th id=\"T_ea5857ac_9b83_11ea_957b_1062e5f5bb75level0_row11\" class=\"row_heading level0 row11\" >Honolulu</th>\n",
       "                        <td id=\"T_ea5857ac_9b83_11ea_957b_1062e5f5bb75row11_col0\" class=\"data row11 col0\" >4.71%</td>\n",
       "                        <td id=\"T_ea5857ac_9b83_11ea_957b_1062e5f5bb75row11_col1\" class=\"data row11 col1\" >3.66%</td>\n",
       "                        <td id=\"T_ea5857ac_9b83_11ea_957b_1062e5f5bb75row11_col2\" class=\"data row11 col2\" >3.18%</td>\n",
       "            </tr>\n",
       "            <tr>\n",
       "                        <th id=\"T_ea5857ac_9b83_11ea_957b_1062e5f5bb75level0_row12\" class=\"row_heading level0 row12\" >Houston</th>\n",
       "                        <td id=\"T_ea5857ac_9b83_11ea_957b_1062e5f5bb75row12_col0\" class=\"data row12 col0\" >3.96%</td>\n",
       "                        <td id=\"T_ea5857ac_9b83_11ea_957b_1062e5f5bb75row12_col1\" class=\"data row12 col1\" >7.03%</td>\n",
       "                        <td id=\"T_ea5857ac_9b83_11ea_957b_1062e5f5bb75row12_col2\" class=\"data row12 col2\" >9.21%</td>\n",
       "            </tr>\n",
       "            <tr>\n",
       "                        <th id=\"T_ea5857ac_9b83_11ea_957b_1062e5f5bb75level0_row13\" class=\"row_heading level0 row13\" >Kansas City</th>\n",
       "                        <td id=\"T_ea5857ac_9b83_11ea_957b_1062e5f5bb75row13_col0\" class=\"data row13 col0\" >0.58%</td>\n",
       "                        <td id=\"T_ea5857ac_9b83_11ea_957b_1062e5f5bb75row13_col1\" class=\"data row13 col1\" >0.47%</td>\n",
       "                        <td id=\"T_ea5857ac_9b83_11ea_957b_1062e5f5bb75row13_col2\" class=\"data row13 col2\" >1.44%</td>\n",
       "            </tr>\n",
       "            <tr>\n",
       "                        <th id=\"T_ea5857ac_9b83_11ea_957b_1062e5f5bb75level0_row14\" class=\"row_heading level0 row14\" >Los Angeles</th>\n",
       "                        <td id=\"T_ea5857ac_9b83_11ea_957b_1062e5f5bb75row14_col0\" class=\"data row14 col0\" >11.64%</td>\n",
       "                        <td id=\"T_ea5857ac_9b83_11ea_957b_1062e5f5bb75row14_col1\" class=\"data row14 col1\" >15.90%</td>\n",
       "                        <td id=\"T_ea5857ac_9b83_11ea_957b_1062e5f5bb75row14_col2\" class=\"data row14 col2\" >15.09%</td>\n",
       "            </tr>\n",
       "            <tr>\n",
       "                        <th id=\"T_ea5857ac_9b83_11ea_957b_1062e5f5bb75level0_row15\" class=\"row_heading level0 row15\" >Miami</th>\n",
       "                        <td id=\"T_ea5857ac_9b83_11ea_957b_1062e5f5bb75row15_col0\" class=\"data row15 col0\" >15.13%</td>\n",
       "                        <td id=\"T_ea5857ac_9b83_11ea_957b_1062e5f5bb75row15_col1\" class=\"data row15 col1\" >14.44%</td>\n",
       "                        <td id=\"T_ea5857ac_9b83_11ea_957b_1062e5f5bb75row15_col2\" class=\"data row15 col2\" >11.36%</td>\n",
       "            </tr>\n",
       "            <tr>\n",
       "                        <th id=\"T_ea5857ac_9b83_11ea_957b_1062e5f5bb75level0_row16\" class=\"row_heading level0 row16\" >Milwaukee</th>\n",
       "                        <td id=\"T_ea5857ac_9b83_11ea_957b_1062e5f5bb75row16_col0\" class=\"data row16 col0\" >1.07%</td>\n",
       "                        <td id=\"T_ea5857ac_9b83_11ea_957b_1062e5f5bb75row16_col1\" class=\"data row16 col1\" >0.84%</td>\n",
       "                        <td id=\"T_ea5857ac_9b83_11ea_957b_1062e5f5bb75row16_col2\" class=\"data row16 col2\" >1.54%</td>\n",
       "            </tr>\n",
       "            <tr>\n",
       "                        <th id=\"T_ea5857ac_9b83_11ea_957b_1062e5f5bb75level0_row17\" class=\"row_heading level0 row17\" >Minneapolis</th>\n",
       "                        <td id=\"T_ea5857ac_9b83_11ea_957b_1062e5f5bb75row17_col0\" class=\"data row17 col0\" >0.49%</td>\n",
       "                        <td id=\"T_ea5857ac_9b83_11ea_957b_1062e5f5bb75row17_col1\" class=\"data row17 col1\" >0.37%</td>\n",
       "                        <td id=\"T_ea5857ac_9b83_11ea_957b_1062e5f5bb75row17_col2\" class=\"data row17 col2\" >1.43%</td>\n",
       "            </tr>\n",
       "            <tr>\n",
       "                        <th id=\"T_ea5857ac_9b83_11ea_957b_1062e5f5bb75level0_row18\" class=\"row_heading level0 row18\" >New Orleans</th>\n",
       "                        <td id=\"T_ea5857ac_9b83_11ea_957b_1062e5f5bb75row18_col0\" class=\"data row18 col0\" >1.20%</td>\n",
       "                        <td id=\"T_ea5857ac_9b83_11ea_957b_1062e5f5bb75row18_col1\" class=\"data row18 col1\" >1.13%</td>\n",
       "                        <td id=\"T_ea5857ac_9b83_11ea_957b_1062e5f5bb75row18_col2\" class=\"data row18 col2\" >1.08%</td>\n",
       "            </tr>\n",
       "            <tr>\n",
       "                        <th id=\"T_ea5857ac_9b83_11ea_957b_1062e5f5bb75level0_row19\" class=\"row_heading level0 row19\" >New York</th>\n",
       "                        <td id=\"T_ea5857ac_9b83_11ea_957b_1062e5f5bb75row19_col0\" class=\"data row19 col0\" >8.91%</td>\n",
       "                        <td id=\"T_ea5857ac_9b83_11ea_957b_1062e5f5bb75row19_col1\" class=\"data row19 col1\" >7.82%</td>\n",
       "                        <td id=\"T_ea5857ac_9b83_11ea_957b_1062e5f5bb75row19_col2\" class=\"data row19 col2\" >8.15%</td>\n",
       "            </tr>\n",
       "            <tr>\n",
       "                        <th id=\"T_ea5857ac_9b83_11ea_957b_1062e5f5bb75level0_row20\" class=\"row_heading level0 row20\" >Philadelphia</th>\n",
       "                        <td id=\"T_ea5857ac_9b83_11ea_957b_1062e5f5bb75row20_col0\" class=\"data row20 col0\" >1.39%</td>\n",
       "                        <td id=\"T_ea5857ac_9b83_11ea_957b_1062e5f5bb75row20_col1\" class=\"data row20 col1\" >0.91%</td>\n",
       "                        <td id=\"T_ea5857ac_9b83_11ea_957b_1062e5f5bb75row20_col2\" class=\"data row20 col2\" >1.06%</td>\n",
       "            </tr>\n",
       "            <tr>\n",
       "                        <th id=\"T_ea5857ac_9b83_11ea_957b_1062e5f5bb75level0_row21\" class=\"row_heading level0 row21\" >Phoenix</th>\n",
       "                        <td id=\"T_ea5857ac_9b83_11ea_957b_1062e5f5bb75row21_col0\" class=\"data row21 col0\" >2.19%</td>\n",
       "                        <td id=\"T_ea5857ac_9b83_11ea_957b_1062e5f5bb75row21_col1\" class=\"data row21 col1\" >3.30%</td>\n",
       "                        <td id=\"T_ea5857ac_9b83_11ea_957b_1062e5f5bb75row21_col2\" class=\"data row21 col2\" >6.41%</td>\n",
       "            </tr>\n",
       "            <tr>\n",
       "                        <th id=\"T_ea5857ac_9b83_11ea_957b_1062e5f5bb75level0_row22\" class=\"row_heading level0 row22\" >Pittsburgh</th>\n",
       "                        <td id=\"T_ea5857ac_9b83_11ea_957b_1062e5f5bb75row22_col0\" class=\"data row22 col0\" >0.57%</td>\n",
       "                        <td id=\"T_ea5857ac_9b83_11ea_957b_1062e5f5bb75row22_col1\" class=\"data row22 col1\" >0.27%</td>\n",
       "                        <td id=\"T_ea5857ac_9b83_11ea_957b_1062e5f5bb75row22_col2\" class=\"data row22 col2\" >0.21%</td>\n",
       "            </tr>\n",
       "            <tr>\n",
       "                        <th id=\"T_ea5857ac_9b83_11ea_957b_1062e5f5bb75level0_row23\" class=\"row_heading level0 row23\" >Portland</th>\n",
       "                        <td id=\"T_ea5857ac_9b83_11ea_957b_1062e5f5bb75row23_col0\" class=\"data row23 col0\" >1.03%</td>\n",
       "                        <td id=\"T_ea5857ac_9b83_11ea_957b_1062e5f5bb75row23_col1\" class=\"data row23 col1\" >1.53%</td>\n",
       "                        <td id=\"T_ea5857ac_9b83_11ea_957b_1062e5f5bb75row23_col2\" class=\"data row23 col2\" >3.27%</td>\n",
       "            </tr>\n",
       "            <tr>\n",
       "                        <th id=\"T_ea5857ac_9b83_11ea_957b_1062e5f5bb75level0_row24\" class=\"row_heading level0 row24\" >San Diego</th>\n",
       "                        <td id=\"T_ea5857ac_9b83_11ea_957b_1062e5f5bb75row24_col0\" class=\"data row24 col0\" >0.49%</td>\n",
       "                        <td id=\"T_ea5857ac_9b83_11ea_957b_1062e5f5bb75row24_col1\" class=\"data row24 col1\" >0.24%</td>\n",
       "                        <td id=\"T_ea5857ac_9b83_11ea_957b_1062e5f5bb75row24_col2\" class=\"data row24 col2\" >0.53%</td>\n",
       "            </tr>\n",
       "            <tr>\n",
       "                        <th id=\"T_ea5857ac_9b83_11ea_957b_1062e5f5bb75level0_row25\" class=\"row_heading level0 row25\" >San Francisco</th>\n",
       "                        <td id=\"T_ea5857ac_9b83_11ea_957b_1062e5f5bb75row25_col0\" class=\"data row25 col0\" >4.59%</td>\n",
       "                        <td id=\"T_ea5857ac_9b83_11ea_957b_1062e5f5bb75row25_col1\" class=\"data row25 col1\" >5.92%</td>\n",
       "                        <td id=\"T_ea5857ac_9b83_11ea_957b_1062e5f5bb75row25_col2\" class=\"data row25 col2\" >6.34%</td>\n",
       "            </tr>\n",
       "            <tr>\n",
       "                        <th id=\"T_ea5857ac_9b83_11ea_957b_1062e5f5bb75level0_row26\" class=\"row_heading level0 row26\" >Seattle</th>\n",
       "                        <td id=\"T_ea5857ac_9b83_11ea_957b_1062e5f5bb75row26_col0\" class=\"data row26 col0\" >4.40%</td>\n",
       "                        <td id=\"T_ea5857ac_9b83_11ea_957b_1062e5f5bb75row26_col1\" class=\"data row26 col1\" >6.73%</td>\n",
       "                        <td id=\"T_ea5857ac_9b83_11ea_957b_1062e5f5bb75row26_col2\" class=\"data row26 col2\" >6.19%</td>\n",
       "            </tr>\n",
       "            <tr>\n",
       "                        <th id=\"T_ea5857ac_9b83_11ea_957b_1062e5f5bb75level0_row27\" class=\"row_heading level0 row27\" >St. Louis</th>\n",
       "                        <td id=\"T_ea5857ac_9b83_11ea_957b_1062e5f5bb75row27_col0\" class=\"data row27 col0\" >1.22%</td>\n",
       "                        <td id=\"T_ea5857ac_9b83_11ea_957b_1062e5f5bb75row27_col1\" class=\"data row27 col1\" >1.00%</td>\n",
       "                        <td id=\"T_ea5857ac_9b83_11ea_957b_1062e5f5bb75row27_col2\" class=\"data row27 col2\" >1.94%</td>\n",
       "            </tr>\n",
       "            <tr>\n",
       "                        <th id=\"T_ea5857ac_9b83_11ea_957b_1062e5f5bb75level0_row28\" class=\"row_heading level0 row28\" >Tampa</th>\n",
       "                        <td id=\"T_ea5857ac_9b83_11ea_957b_1062e5f5bb75row28_col0\" class=\"data row28 col0\" >1.50%</td>\n",
       "                        <td id=\"T_ea5857ac_9b83_11ea_957b_1062e5f5bb75row28_col1\" class=\"data row28 col1\" >1.69%</td>\n",
       "                        <td id=\"T_ea5857ac_9b83_11ea_957b_1062e5f5bb75row28_col2\" class=\"data row28 col2\" >2.15%</td>\n",
       "            </tr>\n",
       "            <tr>\n",
       "                        <th id=\"T_ea5857ac_9b83_11ea_957b_1062e5f5bb75level0_row29\" class=\"row_heading level0 row29\" >Washington</th>\n",
       "                        <td id=\"T_ea5857ac_9b83_11ea_957b_1062e5f5bb75row29_col0\" class=\"data row29 col0\" >1.61%</td>\n",
       "                        <td id=\"T_ea5857ac_9b83_11ea_957b_1062e5f5bb75row29_col1\" class=\"data row29 col1\" >2.52%</td>\n",
       "                        <td id=\"T_ea5857ac_9b83_11ea_957b_1062e5f5bb75row29_col2\" class=\"data row29 col2\" >3.76%</td>\n",
       "            </tr>\n",
       "    </tbody></table>"
      ],
      "text/plain": [
       "<pandas.io.formats.style.Styler at 0x20d1607e708>"
      ]
     },
     "execution_count": 5,
     "metadata": {},
     "output_type": "execute_result"
    }
   ],
   "source": [
    "create_table1()"
   ]
  },
  {
   "cell_type": "markdown",
   "metadata": {},
   "source": [
    "***"
   ]
  },
  {
   "cell_type": "markdown",
   "metadata": {},
   "source": [
    "*Market Work data* \n",
    "We also use the census to quantify the labor supply of native women, and restrict the sample to individuals who were between age 20 and 64. We start by describing the labor market behavior of working women by wage percentile—as they will be our main focus in the empirical analysis (Table 2).We also present descriptive statistics by education level (Table 3) because, even if \n",
    "education is only a proxy for market wage, we observe labor supply variables for every woman, including those not working."
   ]
  },
  {
   "cell_type": "code",
   "execution_count": 8,
   "metadata": {},
   "outputs": [
    {
     "data": {
      "text/plain": [
       "(3679718, 45)"
      ]
     },
     "execution_count": 8,
     "metadata": {},
     "output_type": "execute_result"
    }
   ],
   "source": [
    "data2=data_table2()\n",
    "data2.shape"
   ]
  },
  {
   "cell_type": "code",
   "execution_count": 3,
   "metadata": {},
   "outputs": [
    {
     "data": {
      "text/html": [
       "<style  type=\"text/css\" >\n",
       "</style><table id=\"T_680abe18_a053_11ea_a4ca_1062e5f5bb75\" ><caption>Table 2 — Descriptive Statistics—Census Data on Native Women’s Labor Supply by Wage Percentile</caption><thead>    <tr>        <th class=\"blank level0\" ></th>        <th class=\"col_heading level0 col0\" colspan=3>0 -25 percentile</th>        <th class=\"col_heading level0 col3\" colspan=3>25 -50 percentile</th>        <th class=\"col_heading level0 col6\" colspan=3>50 -75 percentile</th>        <th class=\"col_heading level0 col9\" colspan=3>75 -100 percentile</th>        <th class=\"col_heading level0 col12\" colspan=3>90 -100 percentile</th>    </tr>    <tr>        <th class=\"blank level1\" ></th>        <th class=\"col_heading level1 col0\" >1980</th>        <th class=\"col_heading level1 col1\" >1990</th>        <th class=\"col_heading level1 col2\" >2000</th>        <th class=\"col_heading level1 col3\" >1980</th>        <th class=\"col_heading level1 col4\" >1990</th>        <th class=\"col_heading level1 col5\" >2000</th>        <th class=\"col_heading level1 col6\" >1980</th>        <th class=\"col_heading level1 col7\" >1990</th>        <th class=\"col_heading level1 col8\" >2000</th>        <th class=\"col_heading level1 col9\" >1980</th>        <th class=\"col_heading level1 col10\" >1990</th>        <th class=\"col_heading level1 col11\" >2000</th>        <th class=\"col_heading level1 col12\" >1980</th>        <th class=\"col_heading level1 col13\" >1990</th>        <th class=\"col_heading level1 col14\" >2000</th>    </tr></thead><tbody>\n",
       "                <tr>\n",
       "                        <th id=\"T_680abe18_a053_11ea_a4ca_1062e5f5bb75level0_row0\" class=\"row_heading level0 row0\" >Usual hrs. per week|H>0</th>\n",
       "                        <td id=\"T_680abe18_a053_11ea_a4ca_1062e5f5bb75row0_col0\" class=\"data row0 col0\" >34.40</td>\n",
       "                        <td id=\"T_680abe18_a053_11ea_a4ca_1062e5f5bb75row0_col1\" class=\"data row0 col1\" >34.45</td>\n",
       "                        <td id=\"T_680abe18_a053_11ea_a4ca_1062e5f5bb75row0_col2\" class=\"data row0 col2\" >35.26</td>\n",
       "                        <td id=\"T_680abe18_a053_11ea_a4ca_1062e5f5bb75row0_col3\" class=\"data row0 col3\" >36.20</td>\n",
       "                        <td id=\"T_680abe18_a053_11ea_a4ca_1062e5f5bb75row0_col4\" class=\"data row0 col4\" >37.03</td>\n",
       "                        <td id=\"T_680abe18_a053_11ea_a4ca_1062e5f5bb75row0_col5\" class=\"data row0 col5\" >38.03</td>\n",
       "                        <td id=\"T_680abe18_a053_11ea_a4ca_1062e5f5bb75row0_col6\" class=\"data row0 col6\" >37.05</td>\n",
       "                        <td id=\"T_680abe18_a053_11ea_a4ca_1062e5f5bb75row0_col7\" class=\"data row0 col7\" >38.14</td>\n",
       "                        <td id=\"T_680abe18_a053_11ea_a4ca_1062e5f5bb75row0_col8\" class=\"data row0 col8\" >39.29</td>\n",
       "                        <td id=\"T_680abe18_a053_11ea_a4ca_1062e5f5bb75row0_col9\" class=\"data row0 col9\" >34.06</td>\n",
       "                        <td id=\"T_680abe18_a053_11ea_a4ca_1062e5f5bb75row0_col10\" class=\"data row0 col10\" >37.23</td>\n",
       "                        <td id=\"T_680abe18_a053_11ea_a4ca_1062e5f5bb75row0_col11\" class=\"data row0 col11\" >38.31</td>\n",
       "                        <td id=\"T_680abe18_a053_11ea_a4ca_1062e5f5bb75row0_col12\" class=\"data row0 col12\" >29.69</td>\n",
       "                        <td id=\"T_680abe18_a053_11ea_a4ca_1062e5f5bb75row0_col13\" class=\"data row0 col13\" >35.81</td>\n",
       "                        <td id=\"T_680abe18_a053_11ea_a4ca_1062e5f5bb75row0_col14\" class=\"data row0 col14\" >37.03</td>\n",
       "            </tr>\n",
       "            <tr>\n",
       "                        <th id=\"T_680abe18_a053_11ea_a4ca_1062e5f5bb75level0_row1\" class=\"row_heading level0 row1\" >Work at leat 50hrs.(percent)</th>\n",
       "                        <td id=\"T_680abe18_a053_11ea_a4ca_1062e5f5bb75row1_col0\" class=\"data row1 col0\" >0.05</td>\n",
       "                        <td id=\"T_680abe18_a053_11ea_a4ca_1062e5f5bb75row1_col1\" class=\"data row1 col1\" >0.07</td>\n",
       "                        <td id=\"T_680abe18_a053_11ea_a4ca_1062e5f5bb75row1_col2\" class=\"data row1 col2\" >0.09</td>\n",
       "                        <td id=\"T_680abe18_a053_11ea_a4ca_1062e5f5bb75row1_col3\" class=\"data row1 col3\" >0.03</td>\n",
       "                        <td id=\"T_680abe18_a053_11ea_a4ca_1062e5f5bb75row1_col4\" class=\"data row1 col4\" >0.07</td>\n",
       "                        <td id=\"T_680abe18_a053_11ea_a4ca_1062e5f5bb75row1_col5\" class=\"data row1 col5\" >0.10</td>\n",
       "                        <td id=\"T_680abe18_a053_11ea_a4ca_1062e5f5bb75row1_col6\" class=\"data row1 col6\" >0.03</td>\n",
       "                        <td id=\"T_680abe18_a053_11ea_a4ca_1062e5f5bb75row1_col7\" class=\"data row1 col7\" >0.08</td>\n",
       "                        <td id=\"T_680abe18_a053_11ea_a4ca_1062e5f5bb75row1_col8\" class=\"data row1 col8\" >0.12</td>\n",
       "                        <td id=\"T_680abe18_a053_11ea_a4ca_1062e5f5bb75row1_col9\" class=\"data row1 col9\" >0.04</td>\n",
       "                        <td id=\"T_680abe18_a053_11ea_a4ca_1062e5f5bb75row1_col10\" class=\"data row1 col10\" >0.09</td>\n",
       "                        <td id=\"T_680abe18_a053_11ea_a4ca_1062e5f5bb75row1_col11\" class=\"data row1 col11\" >0.15</td>\n",
       "                        <td id=\"T_680abe18_a053_11ea_a4ca_1062e5f5bb75row1_col12\" class=\"data row1 col12\" >0.03</td>\n",
       "                        <td id=\"T_680abe18_a053_11ea_a4ca_1062e5f5bb75row1_col13\" class=\"data row1 col13\" >0.09</td>\n",
       "                        <td id=\"T_680abe18_a053_11ea_a4ca_1062e5f5bb75row1_col14\" class=\"data row1 col14\" >0.16</td>\n",
       "            </tr>\n",
       "            <tr>\n",
       "                        <th id=\"T_680abe18_a053_11ea_a4ca_1062e5f5bb75level0_row2\" class=\"row_heading level0 row2\" >Work at least 60hrs.(percent)</th>\n",
       "                        <td id=\"T_680abe18_a053_11ea_a4ca_1062e5f5bb75row2_col0\" class=\"data row2 col0\" >0.02</td>\n",
       "                        <td id=\"T_680abe18_a053_11ea_a4ca_1062e5f5bb75row2_col1\" class=\"data row2 col1\" >0.04</td>\n",
       "                        <td id=\"T_680abe18_a053_11ea_a4ca_1062e5f5bb75row2_col2\" class=\"data row2 col2\" >0.04</td>\n",
       "                        <td id=\"T_680abe18_a053_11ea_a4ca_1062e5f5bb75row2_col3\" class=\"data row2 col3\" >0.01</td>\n",
       "                        <td id=\"T_680abe18_a053_11ea_a4ca_1062e5f5bb75row2_col4\" class=\"data row2 col4\" >0.02</td>\n",
       "                        <td id=\"T_680abe18_a053_11ea_a4ca_1062e5f5bb75row2_col5\" class=\"data row2 col5\" >0.03</td>\n",
       "                        <td id=\"T_680abe18_a053_11ea_a4ca_1062e5f5bb75row2_col6\" class=\"data row2 col6\" >0.01</td>\n",
       "                        <td id=\"T_680abe18_a053_11ea_a4ca_1062e5f5bb75row2_col7\" class=\"data row2 col7\" >0.02</td>\n",
       "                        <td id=\"T_680abe18_a053_11ea_a4ca_1062e5f5bb75row2_col8\" class=\"data row2 col8\" >0.03</td>\n",
       "                        <td id=\"T_680abe18_a053_11ea_a4ca_1062e5f5bb75row2_col9\" class=\"data row2 col9\" >0.01</td>\n",
       "                        <td id=\"T_680abe18_a053_11ea_a4ca_1062e5f5bb75row2_col10\" class=\"data row2 col10\" >0.02</td>\n",
       "                        <td id=\"T_680abe18_a053_11ea_a4ca_1062e5f5bb75row2_col11\" class=\"data row2 col11\" >0.04</td>\n",
       "                        <td id=\"T_680abe18_a053_11ea_a4ca_1062e5f5bb75row2_col12\" class=\"data row2 col12\" >0.01</td>\n",
       "                        <td id=\"T_680abe18_a053_11ea_a4ca_1062e5f5bb75row2_col13\" class=\"data row2 col13\" >0.02</td>\n",
       "                        <td id=\"T_680abe18_a053_11ea_a4ca_1062e5f5bb75row2_col14\" class=\"data row2 col14\" >0.04</td>\n",
       "            </tr>\n",
       "            <tr>\n",
       "                        <th id=\"T_680abe18_a053_11ea_a4ca_1062e5f5bb75level0_row3\" class=\"row_heading level0 row3\" >Age</th>\n",
       "                        <td id=\"T_680abe18_a053_11ea_a4ca_1062e5f5bb75row3_col0\" class=\"data row3 col0\" >34.84</td>\n",
       "                        <td id=\"T_680abe18_a053_11ea_a4ca_1062e5f5bb75row3_col1\" class=\"data row3 col1\" >34.84</td>\n",
       "                        <td id=\"T_680abe18_a053_11ea_a4ca_1062e5f5bb75row3_col2\" class=\"data row3 col2\" >35.89</td>\n",
       "                        <td id=\"T_680abe18_a053_11ea_a4ca_1062e5f5bb75row3_col3\" class=\"data row3 col3\" >35.69</td>\n",
       "                        <td id=\"T_680abe18_a053_11ea_a4ca_1062e5f5bb75row3_col4\" class=\"data row3 col4\" >36.48</td>\n",
       "                        <td id=\"T_680abe18_a053_11ea_a4ca_1062e5f5bb75row3_col5\" class=\"data row3 col5\" >38.30</td>\n",
       "                        <td id=\"T_680abe18_a053_11ea_a4ca_1062e5f5bb75row3_col6\" class=\"data row3 col6\" >36.86</td>\n",
       "                        <td id=\"T_680abe18_a053_11ea_a4ca_1062e5f5bb75row3_col7\" class=\"data row3 col7\" >37.87</td>\n",
       "                        <td id=\"T_680abe18_a053_11ea_a4ca_1062e5f5bb75row3_col8\" class=\"data row3 col8\" >39.86</td>\n",
       "                        <td id=\"T_680abe18_a053_11ea_a4ca_1062e5f5bb75row3_col9\" class=\"data row3 col9\" >38.74</td>\n",
       "                        <td id=\"T_680abe18_a053_11ea_a4ca_1062e5f5bb75row3_col10\" class=\"data row3 col10\" >39.73</td>\n",
       "                        <td id=\"T_680abe18_a053_11ea_a4ca_1062e5f5bb75row3_col11\" class=\"data row3 col11\" >42.29</td>\n",
       "                        <td id=\"T_680abe18_a053_11ea_a4ca_1062e5f5bb75row3_col12\" class=\"data row3 col12\" >39.90</td>\n",
       "                        <td id=\"T_680abe18_a053_11ea_a4ca_1062e5f5bb75row3_col13\" class=\"data row3 col13\" >40.90</td>\n",
       "                        <td id=\"T_680abe18_a053_11ea_a4ca_1062e5f5bb75row3_col14\" class=\"data row3 col14\" >42.96</td>\n",
       "            </tr>\n",
       "            <tr>\n",
       "                        <th id=\"T_680abe18_a053_11ea_a4ca_1062e5f5bb75level0_row4\" class=\"row_heading level0 row4\" >Married</th>\n",
       "                        <td id=\"T_680abe18_a053_11ea_a4ca_1062e5f5bb75row4_col0\" class=\"data row4 col0\" >0.55</td>\n",
       "                        <td id=\"T_680abe18_a053_11ea_a4ca_1062e5f5bb75row4_col1\" class=\"data row4 col1\" >0.50</td>\n",
       "                        <td id=\"T_680abe18_a053_11ea_a4ca_1062e5f5bb75row4_col2\" class=\"data row4 col2\" >0.46</td>\n",
       "                        <td id=\"T_680abe18_a053_11ea_a4ca_1062e5f5bb75row4_col3\" class=\"data row4 col3\" >0.57</td>\n",
       "                        <td id=\"T_680abe18_a053_11ea_a4ca_1062e5f5bb75row4_col4\" class=\"data row4 col4\" >0.54</td>\n",
       "                        <td id=\"T_680abe18_a053_11ea_a4ca_1062e5f5bb75row4_col5\" class=\"data row4 col5\" >0.52</td>\n",
       "                        <td id=\"T_680abe18_a053_11ea_a4ca_1062e5f5bb75row4_col6\" class=\"data row4 col6\" >0.57</td>\n",
       "                        <td id=\"T_680abe18_a053_11ea_a4ca_1062e5f5bb75row4_col7\" class=\"data row4 col7\" >0.55</td>\n",
       "                        <td id=\"T_680abe18_a053_11ea_a4ca_1062e5f5bb75row4_col8\" class=\"data row4 col8\" >0.55</td>\n",
       "                        <td id=\"T_680abe18_a053_11ea_a4ca_1062e5f5bb75row4_col9\" class=\"data row4 col9\" >0.57</td>\n",
       "                        <td id=\"T_680abe18_a053_11ea_a4ca_1062e5f5bb75row4_col10\" class=\"data row4 col10\" >0.58</td>\n",
       "                        <td id=\"T_680abe18_a053_11ea_a4ca_1062e5f5bb75row4_col11\" class=\"data row4 col11\" >0.60</td>\n",
       "                        <td id=\"T_680abe18_a053_11ea_a4ca_1062e5f5bb75row4_col12\" class=\"data row4 col12\" >0.57</td>\n",
       "                        <td id=\"T_680abe18_a053_11ea_a4ca_1062e5f5bb75row4_col13\" class=\"data row4 col13\" >0.59</td>\n",
       "                        <td id=\"T_680abe18_a053_11ea_a4ca_1062e5f5bb75row4_col14\" class=\"data row4 col14\" >0.61</td>\n",
       "            </tr>\n",
       "            <tr>\n",
       "                        <th id=\"T_680abe18_a053_11ea_a4ca_1062e5f5bb75level0_row5\" class=\"row_heading level0 row5\" >Child under 6</th>\n",
       "                        <td id=\"T_680abe18_a053_11ea_a4ca_1062e5f5bb75row5_col0\" class=\"data row5 col0\" >0.16</td>\n",
       "                        <td id=\"T_680abe18_a053_11ea_a4ca_1062e5f5bb75row5_col1\" class=\"data row5 col1\" >0.17</td>\n",
       "                        <td id=\"T_680abe18_a053_11ea_a4ca_1062e5f5bb75row5_col2\" class=\"data row5 col2\" >0.16</td>\n",
       "                        <td id=\"T_680abe18_a053_11ea_a4ca_1062e5f5bb75row5_col3\" class=\"data row5 col3\" >0.13</td>\n",
       "                        <td id=\"T_680abe18_a053_11ea_a4ca_1062e5f5bb75row5_col4\" class=\"data row5 col4\" >0.14</td>\n",
       "                        <td id=\"T_680abe18_a053_11ea_a4ca_1062e5f5bb75row5_col5\" class=\"data row5 col5\" >0.13</td>\n",
       "                        <td id=\"T_680abe18_a053_11ea_a4ca_1062e5f5bb75row5_col6\" class=\"data row5 col6\" >0.12</td>\n",
       "                        <td id=\"T_680abe18_a053_11ea_a4ca_1062e5f5bb75row5_col7\" class=\"data row5 col7\" >0.14</td>\n",
       "                        <td id=\"T_680abe18_a053_11ea_a4ca_1062e5f5bb75row5_col8\" class=\"data row5 col8\" >0.13</td>\n",
       "                        <td id=\"T_680abe18_a053_11ea_a4ca_1062e5f5bb75row5_col9\" class=\"data row5 col9\" >0.13</td>\n",
       "                        <td id=\"T_680abe18_a053_11ea_a4ca_1062e5f5bb75row5_col10\" class=\"data row5 col10\" >0.15</td>\n",
       "                        <td id=\"T_680abe18_a053_11ea_a4ca_1062e5f5bb75row5_col11\" class=\"data row5 col11\" >0.14</td>\n",
       "                        <td id=\"T_680abe18_a053_11ea_a4ca_1062e5f5bb75row5_col12\" class=\"data row5 col12\" >0.14</td>\n",
       "                        <td id=\"T_680abe18_a053_11ea_a4ca_1062e5f5bb75row5_col13\" class=\"data row5 col13\" >0.16</td>\n",
       "                        <td id=\"T_680abe18_a053_11ea_a4ca_1062e5f5bb75row5_col14\" class=\"data row5 col14\" >0.15</td>\n",
       "            </tr>\n",
       "            <tr>\n",
       "                        <th id=\"T_680abe18_a053_11ea_a4ca_1062e5f5bb75level0_row6\" class=\"row_heading level0 row6\" >Children under 18</th>\n",
       "                        <td id=\"T_680abe18_a053_11ea_a4ca_1062e5f5bb75row6_col0\" class=\"data row6 col0\" >0.45</td>\n",
       "                        <td id=\"T_680abe18_a053_11ea_a4ca_1062e5f5bb75row6_col1\" class=\"data row6 col1\" >0.41</td>\n",
       "                        <td id=\"T_680abe18_a053_11ea_a4ca_1062e5f5bb75row6_col2\" class=\"data row6 col2\" >0.41</td>\n",
       "                        <td id=\"T_680abe18_a053_11ea_a4ca_1062e5f5bb75row6_col3\" class=\"data row6 col3\" >0.41</td>\n",
       "                        <td id=\"T_680abe18_a053_11ea_a4ca_1062e5f5bb75row6_col4\" class=\"data row6 col4\" >0.38</td>\n",
       "                        <td id=\"T_680abe18_a053_11ea_a4ca_1062e5f5bb75row6_col5\" class=\"data row6 col5\" >0.39</td>\n",
       "                        <td id=\"T_680abe18_a053_11ea_a4ca_1062e5f5bb75row6_col6\" class=\"data row6 col6\" >0.38</td>\n",
       "                        <td id=\"T_680abe18_a053_11ea_a4ca_1062e5f5bb75row6_col7\" class=\"data row6 col7\" >0.37</td>\n",
       "                        <td id=\"T_680abe18_a053_11ea_a4ca_1062e5f5bb75row6_col8\" class=\"data row6 col8\" >0.38</td>\n",
       "                        <td id=\"T_680abe18_a053_11ea_a4ca_1062e5f5bb75row6_col9\" class=\"data row6 col9\" >0.38</td>\n",
       "                        <td id=\"T_680abe18_a053_11ea_a4ca_1062e5f5bb75row6_col10\" class=\"data row6 col10\" >0.38</td>\n",
       "                        <td id=\"T_680abe18_a053_11ea_a4ca_1062e5f5bb75row6_col11\" class=\"data row6 col11\" >0.40</td>\n",
       "                        <td id=\"T_680abe18_a053_11ea_a4ca_1062e5f5bb75row6_col12\" class=\"data row6 col12\" >0.40</td>\n",
       "                        <td id=\"T_680abe18_a053_11ea_a4ca_1062e5f5bb75row6_col13\" class=\"data row6 col13\" >0.38</td>\n",
       "                        <td id=\"T_680abe18_a053_11ea_a4ca_1062e5f5bb75row6_col14\" class=\"data row6 col14\" >0.41</td>\n",
       "            </tr>\n",
       "    </tbody></table>"
      ],
      "text/plain": [
       "<pandas.io.formats.style.Styler at 0x2ba0003b248>"
      ]
     },
     "execution_count": 3,
     "metadata": {},
     "output_type": "execute_result"
    }
   ],
   "source": [
    "table2=create_table2()\n",
    "table2"
   ]
  },
  {
   "cell_type": "markdown",
   "metadata": {},
   "source": [
    "Labor force participation and the number of hours worked a week increase systematically with the education level of the woman (see Table 3). Women with a graduate degree, a college degree, and some college present a significant increase in their labor force participation between 1980 and 1990. During the past decade, participation of all education groups has stabilized, and if anything it has gone down. It is important to note that close to a third of professional women (mostly doctors, lawyers and PhDs) reported working 50 hours or more a week in 2000, a doublefold increase from 1980 and at least two times as large as the share for women from any other group. Highly educated women are also at least three times as likely, compared to any other educational group, to work 60 hours or more a week."
   ]
  },
  {
   "cell_type": "code",
   "execution_count": 5,
   "metadata": {},
   "outputs": [],
   "source": [
    "#data3=data_table3()"
   ]
  },
  {
   "cell_type": "code",
   "execution_count": 6,
   "metadata": {},
   "outputs": [
    {
     "data": {
      "text/html": [
       "<style  type=\"text/css\" >\n",
       "</style><table id=\"T_0b54060a_9b9f_11ea_b907_1062e5f5bb75\" ><caption>Table 3—Descriptive Statistics—Census Data on Native Women’s Labor Supply by Education Level</caption><thead>    <tr>        <th class=\"blank level0\" ></th>        <th class=\"col_heading level0 col0\" colspan=3>At most high school grad</th>        <th class=\"col_heading level0 col3\" colspan=3>Some College</th>        <th class=\"col_heading level0 col6\" colspan=3>College grad</th>        <th class=\"col_heading level0 col9\" colspan=3>Master's degree</th>        <th class=\"col_heading level0 col12\" colspan=3>Professional degree or PhD</th>    </tr>    <tr>        <th class=\"blank level1\" ></th>        <th class=\"col_heading level1 col0\" >1980</th>        <th class=\"col_heading level1 col1\" >1990</th>        <th class=\"col_heading level1 col2\" >2000</th>        <th class=\"col_heading level1 col3\" >1980</th>        <th class=\"col_heading level1 col4\" >1990</th>        <th class=\"col_heading level1 col5\" >2000</th>        <th class=\"col_heading level1 col6\" >1980</th>        <th class=\"col_heading level1 col7\" >1990</th>        <th class=\"col_heading level1 col8\" >2000</th>        <th class=\"col_heading level1 col9\" >1980</th>        <th class=\"col_heading level1 col10\" >1990</th>        <th class=\"col_heading level1 col11\" >2000</th>        <th class=\"col_heading level1 col12\" >1980</th>        <th class=\"col_heading level1 col13\" >1990</th>        <th class=\"col_heading level1 col14\" >2000</th>    </tr></thead><tbody>\n",
       "                <tr>\n",
       "                        <th id=\"T_0b54060a_9b9f_11ea_b907_1062e5f5bb75level0_row0\" class=\"row_heading level0 row0\" >Labor force participation</th>\n",
       "                        <td id=\"T_0b54060a_9b9f_11ea_b907_1062e5f5bb75row0_col0\" class=\"data row0 col0\" >0.56</td>\n",
       "                        <td id=\"T_0b54060a_9b9f_11ea_b907_1062e5f5bb75row0_col1\" class=\"data row0 col1\" >0.62</td>\n",
       "                        <td id=\"T_0b54060a_9b9f_11ea_b907_1062e5f5bb75row0_col2\" class=\"data row0 col2\" >0.63</td>\n",
       "                        <td id=\"T_0b54060a_9b9f_11ea_b907_1062e5f5bb75row0_col3\" class=\"data row0 col3\" >0.69</td>\n",
       "                        <td id=\"T_0b54060a_9b9f_11ea_b907_1062e5f5bb75row0_col4\" class=\"data row0 col4\" >0.78</td>\n",
       "                        <td id=\"T_0b54060a_9b9f_11ea_b907_1062e5f5bb75row0_col5\" class=\"data row0 col5\" >0.77</td>\n",
       "                        <td id=\"T_0b54060a_9b9f_11ea_b907_1062e5f5bb75row0_col6\" class=\"data row0 col6\" >0.72</td>\n",
       "                        <td id=\"T_0b54060a_9b9f_11ea_b907_1062e5f5bb75row0_col7\" class=\"data row0 col7\" >0.82</td>\n",
       "                        <td id=\"T_0b54060a_9b9f_11ea_b907_1062e5f5bb75row0_col8\" class=\"data row0 col8\" >0.80</td>\n",
       "                        <td id=\"T_0b54060a_9b9f_11ea_b907_1062e5f5bb75row0_col9\" class=\"data row0 col9\" >0.80</td>\n",
       "                        <td id=\"T_0b54060a_9b9f_11ea_b907_1062e5f5bb75row0_col10\" class=\"data row0 col10\" >0.87</td>\n",
       "                        <td id=\"T_0b54060a_9b9f_11ea_b907_1062e5f5bb75row0_col11\" class=\"data row0 col11\" >0.85</td>\n",
       "                        <td id=\"T_0b54060a_9b9f_11ea_b907_1062e5f5bb75row0_col12\" class=\"data row0 col12\" >0.84</td>\n",
       "                        <td id=\"T_0b54060a_9b9f_11ea_b907_1062e5f5bb75row0_col13\" class=\"data row0 col13\" >0.88</td>\n",
       "                        <td id=\"T_0b54060a_9b9f_11ea_b907_1062e5f5bb75row0_col14\" class=\"data row0 col14\" >0.86</td>\n",
       "            </tr>\n",
       "            <tr>\n",
       "                        <th id=\"T_0b54060a_9b9f_11ea_b907_1062e5f5bb75level0_row1\" class=\"row_heading level0 row1\" >Usual hrs. per week|H>0</th>\n",
       "                        <td id=\"T_0b54060a_9b9f_11ea_b907_1062e5f5bb75row1_col0\" class=\"data row1 col0\" >21.32</td>\n",
       "                        <td id=\"T_0b54060a_9b9f_11ea_b907_1062e5f5bb75row1_col1\" class=\"data row1 col1\" >24.01</td>\n",
       "                        <td id=\"T_0b54060a_9b9f_11ea_b907_1062e5f5bb75row1_col2\" class=\"data row1 col2\" >25.25</td>\n",
       "                        <td id=\"T_0b54060a_9b9f_11ea_b907_1062e5f5bb75row1_col3\" class=\"data row1 col3\" >26.48</td>\n",
       "                        <td id=\"T_0b54060a_9b9f_11ea_b907_1062e5f5bb75row1_col4\" class=\"data row1 col4\" >30.42</td>\n",
       "                        <td id=\"T_0b54060a_9b9f_11ea_b907_1062e5f5bb75row1_col5\" class=\"data row1 col5\" >30.75</td>\n",
       "                        <td id=\"T_0b54060a_9b9f_11ea_b907_1062e5f5bb75row1_col6\" class=\"data row1 col6\" >27.47</td>\n",
       "                        <td id=\"T_0b54060a_9b9f_11ea_b907_1062e5f5bb75row1_col7\" class=\"data row1 col7\" >32.63</td>\n",
       "                        <td id=\"T_0b54060a_9b9f_11ea_b907_1062e5f5bb75row1_col8\" class=\"data row1 col8\" >33.09</td>\n",
       "                        <td id=\"T_0b54060a_9b9f_11ea_b907_1062e5f5bb75row1_col9\" class=\"data row1 col9\" >30.53</td>\n",
       "                        <td id=\"T_0b54060a_9b9f_11ea_b907_1062e5f5bb75row1_col10\" class=\"data row1 col10\" >34.96</td>\n",
       "                        <td id=\"T_0b54060a_9b9f_11ea_b907_1062e5f5bb75row1_col11\" class=\"data row1 col11\" >35.64</td>\n",
       "                        <td id=\"T_0b54060a_9b9f_11ea_b907_1062e5f5bb75row1_col12\" class=\"data row1 col12\" >33.33</td>\n",
       "                        <td id=\"T_0b54060a_9b9f_11ea_b907_1062e5f5bb75row1_col13\" class=\"data row1 col13\" >37.74</td>\n",
       "                        <td id=\"T_0b54060a_9b9f_11ea_b907_1062e5f5bb75row1_col14\" class=\"data row1 col14\" >38.22</td>\n",
       "            </tr>\n",
       "            <tr>\n",
       "                        <th id=\"T_0b54060a_9b9f_11ea_b907_1062e5f5bb75level0_row2\" class=\"row_heading level0 row2\" >Work at leat 50hrs.(percent)</th>\n",
       "                        <td id=\"T_0b54060a_9b9f_11ea_b907_1062e5f5bb75row2_col0\" class=\"data row2 col0\" >0.02</td>\n",
       "                        <td id=\"T_0b54060a_9b9f_11ea_b907_1062e5f5bb75row2_col1\" class=\"data row2 col1\" >0.04</td>\n",
       "                        <td id=\"T_0b54060a_9b9f_11ea_b907_1062e5f5bb75row2_col2\" class=\"data row2 col2\" >0.05</td>\n",
       "                        <td id=\"T_0b54060a_9b9f_11ea_b907_1062e5f5bb75row2_col3\" class=\"data row2 col3\" >0.03</td>\n",
       "                        <td id=\"T_0b54060a_9b9f_11ea_b907_1062e5f5bb75row2_col4\" class=\"data row2 col4\" >0.06</td>\n",
       "                        <td id=\"T_0b54060a_9b9f_11ea_b907_1062e5f5bb75row2_col5\" class=\"data row2 col5\" >0.08</td>\n",
       "                        <td id=\"T_0b54060a_9b9f_11ea_b907_1062e5f5bb75row2_col6\" class=\"data row2 col6\" >0.04</td>\n",
       "                        <td id=\"T_0b54060a_9b9f_11ea_b907_1062e5f5bb75row2_col7\" class=\"data row2 col7\" >0.10</td>\n",
       "                        <td id=\"T_0b54060a_9b9f_11ea_b907_1062e5f5bb75row2_col8\" class=\"data row2 col8\" >0.14</td>\n",
       "                        <td id=\"T_0b54060a_9b9f_11ea_b907_1062e5f5bb75row2_col9\" class=\"data row2 col9\" >0.06</td>\n",
       "                        <td id=\"T_0b54060a_9b9f_11ea_b907_1062e5f5bb75row2_col10\" class=\"data row2 col10\" >0.14</td>\n",
       "                        <td id=\"T_0b54060a_9b9f_11ea_b907_1062e5f5bb75row2_col11\" class=\"data row2 col11\" >0.19</td>\n",
       "                        <td id=\"T_0b54060a_9b9f_11ea_b907_1062e5f5bb75row2_col12\" class=\"data row2 col12\" >0.12</td>\n",
       "                        <td id=\"T_0b54060a_9b9f_11ea_b907_1062e5f5bb75row2_col13\" class=\"data row2 col13\" >0.25</td>\n",
       "                        <td id=\"T_0b54060a_9b9f_11ea_b907_1062e5f5bb75row2_col14\" class=\"data row2 col14\" >0.29</td>\n",
       "            </tr>\n",
       "            <tr>\n",
       "                        <th id=\"T_0b54060a_9b9f_11ea_b907_1062e5f5bb75level0_row3\" class=\"row_heading level0 row3\" >Work at least 60hrs.(percent)</th>\n",
       "                        <td id=\"T_0b54060a_9b9f_11ea_b907_1062e5f5bb75row3_col0\" class=\"data row3 col0\" >0.01</td>\n",
       "                        <td id=\"T_0b54060a_9b9f_11ea_b907_1062e5f5bb75row3_col1\" class=\"data row3 col1\" >0.02</td>\n",
       "                        <td id=\"T_0b54060a_9b9f_11ea_b907_1062e5f5bb75row3_col2\" class=\"data row3 col2\" >0.02</td>\n",
       "                        <td id=\"T_0b54060a_9b9f_11ea_b907_1062e5f5bb75row3_col3\" class=\"data row3 col3\" >0.01</td>\n",
       "                        <td id=\"T_0b54060a_9b9f_11ea_b907_1062e5f5bb75row3_col4\" class=\"data row3 col4\" >0.02</td>\n",
       "                        <td id=\"T_0b54060a_9b9f_11ea_b907_1062e5f5bb75row3_col5\" class=\"data row3 col5\" >0.03</td>\n",
       "                        <td id=\"T_0b54060a_9b9f_11ea_b907_1062e5f5bb75row3_col6\" class=\"data row3 col6\" >0.01</td>\n",
       "                        <td id=\"T_0b54060a_9b9f_11ea_b907_1062e5f5bb75row3_col7\" class=\"data row3 col7\" >0.03</td>\n",
       "                        <td id=\"T_0b54060a_9b9f_11ea_b907_1062e5f5bb75row3_col8\" class=\"data row3 col8\" >0.04</td>\n",
       "                        <td id=\"T_0b54060a_9b9f_11ea_b907_1062e5f5bb75row3_col9\" class=\"data row3 col9\" >0.02</td>\n",
       "                        <td id=\"T_0b54060a_9b9f_11ea_b907_1062e5f5bb75row3_col10\" class=\"data row3 col10\" >0.04</td>\n",
       "                        <td id=\"T_0b54060a_9b9f_11ea_b907_1062e5f5bb75row3_col11\" class=\"data row3 col11\" >0.06</td>\n",
       "                        <td id=\"T_0b54060a_9b9f_11ea_b907_1062e5f5bb75row3_col12\" class=\"data row3 col12\" >0.05</td>\n",
       "                        <td id=\"T_0b54060a_9b9f_11ea_b907_1062e5f5bb75row3_col13\" class=\"data row3 col13\" >0.10</td>\n",
       "                        <td id=\"T_0b54060a_9b9f_11ea_b907_1062e5f5bb75row3_col14\" class=\"data row3 col14\" >0.12</td>\n",
       "            </tr>\n",
       "            <tr>\n",
       "                        <th id=\"T_0b54060a_9b9f_11ea_b907_1062e5f5bb75level0_row4\" class=\"row_heading level0 row4\" >Married</th>\n",
       "                        <td id=\"T_0b54060a_9b9f_11ea_b907_1062e5f5bb75row4_col0\" class=\"data row4 col0\" >0.66</td>\n",
       "                        <td id=\"T_0b54060a_9b9f_11ea_b907_1062e5f5bb75row4_col1\" class=\"data row4 col1\" >0.58</td>\n",
       "                        <td id=\"T_0b54060a_9b9f_11ea_b907_1062e5f5bb75row4_col2\" class=\"data row4 col2\" >0.54</td>\n",
       "                        <td id=\"T_0b54060a_9b9f_11ea_b907_1062e5f5bb75row4_col3\" class=\"data row4 col3\" >0.57</td>\n",
       "                        <td id=\"T_0b54060a_9b9f_11ea_b907_1062e5f5bb75row4_col4\" class=\"data row4 col4\" >0.55</td>\n",
       "                        <td id=\"T_0b54060a_9b9f_11ea_b907_1062e5f5bb75row4_col5\" class=\"data row4 col5\" >0.54</td>\n",
       "                        <td id=\"T_0b54060a_9b9f_11ea_b907_1062e5f5bb75row4_col6\" class=\"data row4 col6\" >0.63</td>\n",
       "                        <td id=\"T_0b54060a_9b9f_11ea_b907_1062e5f5bb75row4_col7\" class=\"data row4 col7\" >0.58</td>\n",
       "                        <td id=\"T_0b54060a_9b9f_11ea_b907_1062e5f5bb75row4_col8\" class=\"data row4 col8\" >0.60</td>\n",
       "                        <td id=\"T_0b54060a_9b9f_11ea_b907_1062e5f5bb75row4_col9\" class=\"data row4 col9\" >0.62</td>\n",
       "                        <td id=\"T_0b54060a_9b9f_11ea_b907_1062e5f5bb75row4_col10\" class=\"data row4 col10\" >0.62</td>\n",
       "                        <td id=\"T_0b54060a_9b9f_11ea_b907_1062e5f5bb75row4_col11\" class=\"data row4 col11\" >0.63</td>\n",
       "                        <td id=\"T_0b54060a_9b9f_11ea_b907_1062e5f5bb75row4_col12\" class=\"data row4 col12\" >0.51</td>\n",
       "                        <td id=\"T_0b54060a_9b9f_11ea_b907_1062e5f5bb75row4_col13\" class=\"data row4 col13\" >0.59</td>\n",
       "                        <td id=\"T_0b54060a_9b9f_11ea_b907_1062e5f5bb75row4_col14\" class=\"data row4 col14\" >0.61</td>\n",
       "            </tr>\n",
       "            <tr>\n",
       "                        <th id=\"T_0b54060a_9b9f_11ea_b907_1062e5f5bb75level0_row5\" class=\"row_heading level0 row5\" >Children under 18</th>\n",
       "                        <td id=\"T_0b54060a_9b9f_11ea_b907_1062e5f5bb75row5_col0\" class=\"data row5 col0\" >0.46</td>\n",
       "                        <td id=\"T_0b54060a_9b9f_11ea_b907_1062e5f5bb75row5_col1\" class=\"data row5 col1\" >0.41</td>\n",
       "                        <td id=\"T_0b54060a_9b9f_11ea_b907_1062e5f5bb75row5_col2\" class=\"data row5 col2\" >0.39</td>\n",
       "                        <td id=\"T_0b54060a_9b9f_11ea_b907_1062e5f5bb75row5_col3\" class=\"data row5 col3\" >0.43</td>\n",
       "                        <td id=\"T_0b54060a_9b9f_11ea_b907_1062e5f5bb75row5_col4\" class=\"data row5 col4\" >0.41</td>\n",
       "                        <td id=\"T_0b54060a_9b9f_11ea_b907_1062e5f5bb75row5_col5\" class=\"data row5 col5\" >0.41</td>\n",
       "                        <td id=\"T_0b54060a_9b9f_11ea_b907_1062e5f5bb75row5_col6\" class=\"data row5 col6\" >0.40</td>\n",
       "                        <td id=\"T_0b54060a_9b9f_11ea_b907_1062e5f5bb75row5_col7\" class=\"data row5 col7\" >0.37</td>\n",
       "                        <td id=\"T_0b54060a_9b9f_11ea_b907_1062e5f5bb75row5_col8\" class=\"data row5 col8\" >0.40</td>\n",
       "                        <td id=\"T_0b54060a_9b9f_11ea_b907_1062e5f5bb75row5_col9\" class=\"data row5 col9\" >0.39</td>\n",
       "                        <td id=\"T_0b54060a_9b9f_11ea_b907_1062e5f5bb75row5_col10\" class=\"data row5 col10\" >0.38</td>\n",
       "                        <td id=\"T_0b54060a_9b9f_11ea_b907_1062e5f5bb75row5_col11\" class=\"data row5 col11\" >0.37</td>\n",
       "                        <td id=\"T_0b54060a_9b9f_11ea_b907_1062e5f5bb75row5_col12\" class=\"data row5 col12\" >0.29</td>\n",
       "                        <td id=\"T_0b54060a_9b9f_11ea_b907_1062e5f5bb75row5_col13\" class=\"data row5 col13\" >0.37</td>\n",
       "                        <td id=\"T_0b54060a_9b9f_11ea_b907_1062e5f5bb75row5_col14\" class=\"data row5 col14\" >0.39</td>\n",
       "            </tr>\n",
       "            <tr>\n",
       "                        <th id=\"T_0b54060a_9b9f_11ea_b907_1062e5f5bb75level0_row6\" class=\"row_heading level0 row6\" >Child under 6</th>\n",
       "                        <td id=\"T_0b54060a_9b9f_11ea_b907_1062e5f5bb75row6_col0\" class=\"data row6 col0\" >0.16</td>\n",
       "                        <td id=\"T_0b54060a_9b9f_11ea_b907_1062e5f5bb75row6_col1\" class=\"data row6 col1\" >0.16</td>\n",
       "                        <td id=\"T_0b54060a_9b9f_11ea_b907_1062e5f5bb75row6_col2\" class=\"data row6 col2\" >0.14</td>\n",
       "                        <td id=\"T_0b54060a_9b9f_11ea_b907_1062e5f5bb75row6_col3\" class=\"data row6 col3\" >0.17</td>\n",
       "                        <td id=\"T_0b54060a_9b9f_11ea_b907_1062e5f5bb75row6_col4\" class=\"data row6 col4\" >0.18</td>\n",
       "                        <td id=\"T_0b54060a_9b9f_11ea_b907_1062e5f5bb75row6_col5\" class=\"data row6 col5\" >0.15</td>\n",
       "                        <td id=\"T_0b54060a_9b9f_11ea_b907_1062e5f5bb75row6_col6\" class=\"data row6 col6\" >0.17</td>\n",
       "                        <td id=\"T_0b54060a_9b9f_11ea_b907_1062e5f5bb75row6_col7\" class=\"data row6 col7\" >0.18</td>\n",
       "                        <td id=\"T_0b54060a_9b9f_11ea_b907_1062e5f5bb75row6_col8\" class=\"data row6 col8\" >0.18</td>\n",
       "                        <td id=\"T_0b54060a_9b9f_11ea_b907_1062e5f5bb75row6_col9\" class=\"data row6 col9\" >0.17</td>\n",
       "                        <td id=\"T_0b54060a_9b9f_11ea_b907_1062e5f5bb75row6_col10\" class=\"data row6 col10\" >0.15</td>\n",
       "                        <td id=\"T_0b54060a_9b9f_11ea_b907_1062e5f5bb75row6_col11\" class=\"data row6 col11\" >0.14</td>\n",
       "                        <td id=\"T_0b54060a_9b9f_11ea_b907_1062e5f5bb75row6_col12\" class=\"data row6 col12\" >0.11</td>\n",
       "                        <td id=\"T_0b54060a_9b9f_11ea_b907_1062e5f5bb75row6_col13\" class=\"data row6 col13\" >0.18</td>\n",
       "                        <td id=\"T_0b54060a_9b9f_11ea_b907_1062e5f5bb75row6_col14\" class=\"data row6 col14\" >0.16</td>\n",
       "            </tr>\n",
       "    </tbody></table>"
      ],
      "text/plain": [
       "<pandas.io.formats.style.Styler at 0x184801bc2c8>"
      ]
     },
     "execution_count": 6,
     "metadata": {},
     "output_type": "execute_result"
    }
   ],
   "source": [
    "table3=create_table3()\n",
    "table3"
   ]
  },
  {
   "cell_type": "markdown",
   "metadata": {},
   "source": [
    "*Table 4* presents the descriptive statistics of our time use data. For all women,hours spent on household work decreased significantly between 1980–2000. In both years, time spent on household chores is significantly smaller for women above the median wage. The time men spent doing household work is between one-half and one-third the amount women with similar wages spent. Note that PSID’s and ATUS’s statistics on usual hours worked and general demographic characteristics are not very different from the census."
   ]
  },
  {
   "cell_type": "code",
   "execution_count": 3,
   "metadata": {},
   "outputs": [],
   "source": [
    "data4=data_table4()"
   ]
  },
  {
   "cell_type": "code",
   "execution_count": 5,
   "metadata": {},
   "outputs": [
    {
     "data": {
      "text/html": [
       "<style  type=\"text/css\" >\n",
       "</style><table id=\"T_8042f314_9ba0_11ea_a69e_1062e5f5bb75\" ><caption>Table 4—Descriptive Statistics—Time Use of Women from 1980 PSID and 2003–2005 ATUS</caption><thead>    <tr>        <th class=\"blank level0\" ></th>        <th class=\"col_heading level0 col0\" colspan=2>0 - 25th</th>        <th class=\"col_heading level0 col2\" colspan=2>25 - 50th</th>        <th class=\"col_heading level0 col4\" colspan=2>50 - 75th</th>        <th class=\"col_heading level0 col6\" colspan=2>75 - 100th</th>        <th class=\"col_heading level0 col8\" colspan=2>90 - 100th</th>    </tr>    <tr>        <th class=\"blank level1\" ></th>        <th class=\"col_heading level1 col0\" >1980</th>        <th class=\"col_heading level1 col1\" >2000</th>        <th class=\"col_heading level1 col2\" >1980</th>        <th class=\"col_heading level1 col3\" >2000</th>        <th class=\"col_heading level1 col4\" >1980</th>        <th class=\"col_heading level1 col5\" >2000</th>        <th class=\"col_heading level1 col6\" >1980</th>        <th class=\"col_heading level1 col7\" >2000</th>        <th class=\"col_heading level1 col8\" >1980</th>        <th class=\"col_heading level1 col9\" >2000</th>    </tr></thead><tbody>\n",
       "                <tr>\n",
       "                        <th id=\"T_8042f314_9ba0_11ea_a69e_1062e5f5bb75level0_row0\" class=\"row_heading level0 row0\" >Hrs./week on household chores</th>\n",
       "                        <td id=\"T_8042f314_9ba0_11ea_a69e_1062e5f5bb75row0_col0\" class=\"data row0 col0\" >22.29</td>\n",
       "                        <td id=\"T_8042f314_9ba0_11ea_a69e_1062e5f5bb75row0_col1\" class=\"data row0 col1\" >12.55</td>\n",
       "                        <td id=\"T_8042f314_9ba0_11ea_a69e_1062e5f5bb75row0_col2\" class=\"data row0 col2\" >20.05</td>\n",
       "                        <td id=\"T_8042f314_9ba0_11ea_a69e_1062e5f5bb75row0_col3\" class=\"data row0 col3\" >13.33</td>\n",
       "                        <td id=\"T_8042f314_9ba0_11ea_a69e_1062e5f5bb75row0_col4\" class=\"data row0 col4\" >17.34</td>\n",
       "                        <td id=\"T_8042f314_9ba0_11ea_a69e_1062e5f5bb75row0_col5\" class=\"data row0 col5\" >11.79</td>\n",
       "                        <td id=\"T_8042f314_9ba0_11ea_a69e_1062e5f5bb75row0_col6\" class=\"data row0 col6\" >18.53</td>\n",
       "                        <td id=\"T_8042f314_9ba0_11ea_a69e_1062e5f5bb75row0_col7\" class=\"data row0 col7\" >11.84</td>\n",
       "                        <td id=\"T_8042f314_9ba0_11ea_a69e_1062e5f5bb75row0_col8\" class=\"data row0 col8\" >19.48</td>\n",
       "                        <td id=\"T_8042f314_9ba0_11ea_a69e_1062e5f5bb75row0_col9\" class=\"data row0 col9\" >11.38</td>\n",
       "            </tr>\n",
       "            <tr>\n",
       "                        <th id=\"T_8042f314_9ba0_11ea_a69e_1062e5f5bb75level0_row1\" class=\"row_heading level0 row1\" >Hrs./week market work (condional on reporting wage)</th>\n",
       "                        <td id=\"T_8042f314_9ba0_11ea_a69e_1062e5f5bb75row1_col0\" class=\"data row1 col0\" >35.90</td>\n",
       "                        <td id=\"T_8042f314_9ba0_11ea_a69e_1062e5f5bb75row1_col1\" class=\"data row1 col1\" >34.09</td>\n",
       "                        <td id=\"T_8042f314_9ba0_11ea_a69e_1062e5f5bb75row1_col2\" class=\"data row1 col2\" >36.83</td>\n",
       "                        <td id=\"T_8042f314_9ba0_11ea_a69e_1062e5f5bb75row1_col3\" class=\"data row1 col3\" >37.49</td>\n",
       "                        <td id=\"T_8042f314_9ba0_11ea_a69e_1062e5f5bb75row1_col4\" class=\"data row1 col4\" >38.10</td>\n",
       "                        <td id=\"T_8042f314_9ba0_11ea_a69e_1062e5f5bb75row1_col5\" class=\"data row1 col5\" >39.49</td>\n",
       "                        <td id=\"T_8042f314_9ba0_11ea_a69e_1062e5f5bb75row1_col6\" class=\"data row1 col6\" >36.97</td>\n",
       "                        <td id=\"T_8042f314_9ba0_11ea_a69e_1062e5f5bb75row1_col7\" class=\"data row1 col7\" >39.75</td>\n",
       "                        <td id=\"T_8042f314_9ba0_11ea_a69e_1062e5f5bb75row1_col8\" class=\"data row1 col8\" >35.12</td>\n",
       "                        <td id=\"T_8042f314_9ba0_11ea_a69e_1062e5f5bb75row1_col9\" class=\"data row1 col9\" >39.75</td>\n",
       "            </tr>\n",
       "            <tr>\n",
       "                        <th id=\"T_8042f314_9ba0_11ea_a69e_1062e5f5bb75level0_row2\" class=\"row_heading level0 row2\" >Age</th>\n",
       "                        <td id=\"T_8042f314_9ba0_11ea_a69e_1062e5f5bb75row2_col0\" class=\"data row2 col0\" >34.15</td>\n",
       "                        <td id=\"T_8042f314_9ba0_11ea_a69e_1062e5f5bb75row2_col1\" class=\"data row2 col1\" >37.75</td>\n",
       "                        <td id=\"T_8042f314_9ba0_11ea_a69e_1062e5f5bb75row2_col2\" class=\"data row2 col2\" >33.57</td>\n",
       "                        <td id=\"T_8042f314_9ba0_11ea_a69e_1062e5f5bb75row2_col3\" class=\"data row2 col3\" >40.32</td>\n",
       "                        <td id=\"T_8042f314_9ba0_11ea_a69e_1062e5f5bb75row2_col4\" class=\"data row2 col4\" >34.83</td>\n",
       "                        <td id=\"T_8042f314_9ba0_11ea_a69e_1062e5f5bb75row2_col5\" class=\"data row2 col5\" >41.41</td>\n",
       "                        <td id=\"T_8042f314_9ba0_11ea_a69e_1062e5f5bb75row2_col6\" class=\"data row2 col6\" >35.89</td>\n",
       "                        <td id=\"T_8042f314_9ba0_11ea_a69e_1062e5f5bb75row2_col7\" class=\"data row2 col7\" >43.19</td>\n",
       "                        <td id=\"T_8042f314_9ba0_11ea_a69e_1062e5f5bb75row2_col8\" class=\"data row2 col8\" >37.00</td>\n",
       "                        <td id=\"T_8042f314_9ba0_11ea_a69e_1062e5f5bb75row2_col9\" class=\"data row2 col9\" >43.63</td>\n",
       "            </tr>\n",
       "            <tr>\n",
       "                        <th id=\"T_8042f314_9ba0_11ea_a69e_1062e5f5bb75level0_row3\" class=\"row_heading level0 row3\" >Married</th>\n",
       "                        <td id=\"T_8042f314_9ba0_11ea_a69e_1062e5f5bb75row3_col0\" class=\"data row3 col0\" >0.64</td>\n",
       "                        <td id=\"T_8042f314_9ba0_11ea_a69e_1062e5f5bb75row3_col1\" class=\"data row3 col1\" >0.44</td>\n",
       "                        <td id=\"T_8042f314_9ba0_11ea_a69e_1062e5f5bb75row3_col2\" class=\"data row3 col2\" >0.64</td>\n",
       "                        <td id=\"T_8042f314_9ba0_11ea_a69e_1062e5f5bb75row3_col3\" class=\"data row3 col3\" >0.50</td>\n",
       "                        <td id=\"T_8042f314_9ba0_11ea_a69e_1062e5f5bb75row3_col4\" class=\"data row3 col4\" >0.60</td>\n",
       "                        <td id=\"T_8042f314_9ba0_11ea_a69e_1062e5f5bb75row3_col5\" class=\"data row3 col5\" >0.53</td>\n",
       "                        <td id=\"T_8042f314_9ba0_11ea_a69e_1062e5f5bb75row3_col6\" class=\"data row3 col6\" >0.71</td>\n",
       "                        <td id=\"T_8042f314_9ba0_11ea_a69e_1062e5f5bb75row3_col7\" class=\"data row3 col7\" >0.59</td>\n",
       "                        <td id=\"T_8042f314_9ba0_11ea_a69e_1062e5f5bb75row3_col8\" class=\"data row3 col8\" >0.73</td>\n",
       "                        <td id=\"T_8042f314_9ba0_11ea_a69e_1062e5f5bb75row3_col9\" class=\"data row3 col9\" >0.60</td>\n",
       "            </tr>\n",
       "            <tr>\n",
       "                        <th id=\"T_8042f314_9ba0_11ea_a69e_1062e5f5bb75level0_row4\" class=\"row_heading level0 row4\" >Children under 18</th>\n",
       "                        <td id=\"T_8042f314_9ba0_11ea_a69e_1062e5f5bb75row4_col0\" class=\"data row4 col0\" >0.67</td>\n",
       "                        <td id=\"T_8042f314_9ba0_11ea_a69e_1062e5f5bb75row4_col1\" class=\"data row4 col1\" >0.47</td>\n",
       "                        <td id=\"T_8042f314_9ba0_11ea_a69e_1062e5f5bb75row4_col2\" class=\"data row4 col2\" >0.63</td>\n",
       "                        <td id=\"T_8042f314_9ba0_11ea_a69e_1062e5f5bb75row4_col3\" class=\"data row4 col3\" >0.49</td>\n",
       "                        <td id=\"T_8042f314_9ba0_11ea_a69e_1062e5f5bb75row4_col4\" class=\"data row4 col4\" >0.56</td>\n",
       "                        <td id=\"T_8042f314_9ba0_11ea_a69e_1062e5f5bb75row4_col5\" class=\"data row4 col5\" >0.48</td>\n",
       "                        <td id=\"T_8042f314_9ba0_11ea_a69e_1062e5f5bb75row4_col6\" class=\"data row4 col6\" >0.55</td>\n",
       "                        <td id=\"T_8042f314_9ba0_11ea_a69e_1062e5f5bb75row4_col7\" class=\"data row4 col7\" >0.49</td>\n",
       "                        <td id=\"T_8042f314_9ba0_11ea_a69e_1062e5f5bb75row4_col8\" class=\"data row4 col8\" >0.62</td>\n",
       "                        <td id=\"T_8042f314_9ba0_11ea_a69e_1062e5f5bb75row4_col9\" class=\"data row4 col9\" >0.50</td>\n",
       "            </tr>\n",
       "            <tr>\n",
       "                        <th id=\"T_8042f314_9ba0_11ea_a69e_1062e5f5bb75level0_row5\" class=\"row_heading level0 row5\" >Child under 6</th>\n",
       "                        <td id=\"T_8042f314_9ba0_11ea_a69e_1062e5f5bb75row5_col0\" class=\"data row5 col0\" >0.37</td>\n",
       "                        <td id=\"T_8042f314_9ba0_11ea_a69e_1062e5f5bb75row5_col1\" class=\"data row5 col1\" >0.22</td>\n",
       "                        <td id=\"T_8042f314_9ba0_11ea_a69e_1062e5f5bb75row5_col2\" class=\"data row5 col2\" >0.34</td>\n",
       "                        <td id=\"T_8042f314_9ba0_11ea_a69e_1062e5f5bb75row5_col3\" class=\"data row5 col3\" >0.18</td>\n",
       "                        <td id=\"T_8042f314_9ba0_11ea_a69e_1062e5f5bb75row5_col4\" class=\"data row5 col4\" >0.26</td>\n",
       "                        <td id=\"T_8042f314_9ba0_11ea_a69e_1062e5f5bb75row5_col5\" class=\"data row5 col5\" >0.19</td>\n",
       "                        <td id=\"T_8042f314_9ba0_11ea_a69e_1062e5f5bb75row5_col6\" class=\"data row5 col6\" >0.27</td>\n",
       "                        <td id=\"T_8042f314_9ba0_11ea_a69e_1062e5f5bb75row5_col7\" class=\"data row5 col7\" >0.20</td>\n",
       "                        <td id=\"T_8042f314_9ba0_11ea_a69e_1062e5f5bb75row5_col8\" class=\"data row5 col8\" >0.33</td>\n",
       "                        <td id=\"T_8042f314_9ba0_11ea_a69e_1062e5f5bb75row5_col9\" class=\"data row5 col9\" >0.21</td>\n",
       "            </tr>\n",
       "    </tbody></table>"
      ],
      "text/plain": [
       "<pandas.io.formats.style.Styler at 0x20102b75048>"
      ]
     },
     "execution_count": 5,
     "metadata": {},
     "output_type": "execute_result"
    }
   ],
   "source": [
    "table4=create_table4(data4)\n",
    "table4"
   ]
  },
  {
   "cell_type": "code",
   "execution_count": 4,
   "metadata": {},
   "outputs": [
    {
     "data": {
      "image/png": "[encoded data removed]",
      "text/plain": [
       "<Figure size 792.125x360 with 2 Axes>"
      ]
     },
     "metadata": {
      "needs_background": "light"
     },
     "output_type": "display_data"
    }
   ],
   "source": [
    "plot_hhschores(data4)"
   ]
  },
  {
   "cell_type": "markdown",
   "metadata": {},
   "source": [
    "As observed in *Table 5*, the probability of consuming household services increases significantly \n",
    "with the wage percentile of the wife/female head of the household. Whereas in 2000, for only 3\n",
    "percent of households where such a female had a wage below the median, that fraction rises to 8 percent, 18 percent, and 26 percent when considering females at the third quartile, top quartile, and top decile, respectively. Note that this pattern is consistent with the predictions of the model, where only women with high wages or high unearned income will purchase household services. Expenditures on household services tend to increase with the wage percentile of the main adult female in the household. Households with a wife or female household head at the top quartile of the wage distribution (conditional on reporting positive expenditures) spent close to 30 percent more in housekeeping services than other households."
   ]
  },
  {
   "cell_type": "code",
   "execution_count": 9,
   "metadata": {},
   "outputs": [],
   "source": [
    "data5=data_table5()"
   ]
  },
  {
   "cell_type": "code",
   "execution_count": 10,
   "metadata": {},
   "outputs": [
    {
     "data": {
      "text/html": [
       "<div>\n",
       "<style scoped>\n",
       "    .dataframe tbody tr th:only-of-type {\n",
       "        vertical-align: middle;\n",
       "    }\n",
       "\n",
       "    .dataframe tbody tr th {\n",
       "        vertical-align: top;\n",
       "    }\n",
       "\n",
       "    .dataframe thead tr th {\n",
       "        text-align: left;\n",
       "    }\n",
       "</style>\n",
       "<table border=\"1\" class=\"dataframe\">\n",
       "  <thead>\n",
       "    <tr>\n",
       "      <th></th>\n",
       "      <th colspan=\"3\" halign=\"left\">0 - 25th percentile</th>\n",
       "      <th colspan=\"3\" halign=\"left\">25 - 50th percentile</th>\n",
       "      <th colspan=\"3\" halign=\"left\">50 - 75th percentile</th>\n",
       "      <th colspan=\"3\" halign=\"left\">75 - 100th percentile</th>\n",
       "      <th colspan=\"3\" halign=\"left\">90 - 100th percentile</th>\n",
       "    </tr>\n",
       "    <tr>\n",
       "      <th></th>\n",
       "      <th>1980</th>\n",
       "      <th>1990</th>\n",
       "      <th>2000</th>\n",
       "      <th>1980</th>\n",
       "      <th>1990</th>\n",
       "      <th>2000</th>\n",
       "      <th>1980</th>\n",
       "      <th>1990</th>\n",
       "      <th>2000</th>\n",
       "      <th>1980</th>\n",
       "      <th>1990</th>\n",
       "      <th>2000</th>\n",
       "      <th>1980</th>\n",
       "      <th>1990</th>\n",
       "      <th>2000</th>\n",
       "    </tr>\n",
       "  </thead>\n",
       "  <tbody>\n",
       "    <tr>\n",
       "      <th>Dummy for positive exp. in housekeeping</th>\n",
       "      <td>0.034</td>\n",
       "      <td>0.042</td>\n",
       "      <td>0.022</td>\n",
       "      <td>0.041</td>\n",
       "      <td>0.055</td>\n",
       "      <td>0.039</td>\n",
       "      <td>0.045</td>\n",
       "      <td>0.042</td>\n",
       "      <td>0.079</td>\n",
       "      <td>0.142</td>\n",
       "      <td>0.184</td>\n",
       "      <td>0.18</td>\n",
       "      <td>0.171</td>\n",
       "      <td>0.282</td>\n",
       "      <td>0.263</td>\n",
       "    </tr>\n",
       "    <tr>\n",
       "      <th>Housekeeping exp. |E&gt;0 (1990 dollars)</th>\n",
       "      <td>172.52</td>\n",
       "      <td>165.87</td>\n",
       "      <td>176.01</td>\n",
       "      <td>124.35</td>\n",
       "      <td>174.56</td>\n",
       "      <td>141.3</td>\n",
       "      <td>136.98</td>\n",
       "      <td>172.09</td>\n",
       "      <td>175.62</td>\n",
       "      <td>279.55</td>\n",
       "      <td>212.21</td>\n",
       "      <td>207.38</td>\n",
       "      <td>297.71</td>\n",
       "      <td>222.83</td>\n",
       "      <td>232.2</td>\n",
       "    </tr>\n",
       "    <tr>\n",
       "      <th>(std)</th>\n",
       "      <td>(186.48)</td>\n",
       "      <td>(179.77)</td>\n",
       "      <td>(187.46)</td>\n",
       "      <td>(116.28)</td>\n",
       "      <td>(121.85)</td>\n",
       "      <td>(174.15)</td>\n",
       "      <td>(167.51)</td>\n",
       "      <td>(140.27)</td>\n",
       "      <td>(199.81)</td>\n",
       "      <td>(410.19)</td>\n",
       "      <td>(159.81)</td>\n",
       "      <td>(209.67)</td>\n",
       "      <td>(447.86)</td>\n",
       "      <td>(153.29)</td>\n",
       "      <td>(254.28)</td>\n",
       "    </tr>\n",
       "  </tbody>\n",
       "</table>\n",
       "</div>"
      ],
      "text/plain": [
       "                                        0 - 25th percentile            \\\n",
       "                                                       1980      1990   \n",
       "Dummy for positive exp. in housekeeping               0.034     0.042   \n",
       "Housekeeping exp. |E>0 (1990 dollars)                172.52    165.87   \n",
       "(std)                                              (186.48)  (179.77)   \n",
       "\n",
       "                                                  25 - 50th percentile  \\\n",
       "                                             2000                 1980   \n",
       "Dummy for positive exp. in housekeeping     0.022                0.041   \n",
       "Housekeeping exp. |E>0 (1990 dollars)      176.01               124.35   \n",
       "(std)                                    (187.46)             (116.28)   \n",
       "\n",
       "                                                             \\\n",
       "                                             1990      2000   \n",
       "Dummy for positive exp. in housekeeping     0.055     0.039   \n",
       "Housekeeping exp. |E>0 (1990 dollars)      174.56     141.3   \n",
       "(std)                                    (121.85)  (174.15)   \n",
       "\n",
       "                                        50 - 75th percentile            \\\n",
       "                                                        1980      1990   \n",
       "Dummy for positive exp. in housekeeping                0.045     0.042   \n",
       "Housekeeping exp. |E>0 (1990 dollars)                 136.98    172.09   \n",
       "(std)                                               (167.51)  (140.27)   \n",
       "\n",
       "                                                  75 - 100th percentile  \\\n",
       "                                             2000                  1980   \n",
       "Dummy for positive exp. in housekeeping     0.079                 0.142   \n",
       "Housekeeping exp. |E>0 (1990 dollars)      175.62                279.55   \n",
       "(std)                                    (199.81)              (410.19)   \n",
       "\n",
       "                                                             \\\n",
       "                                             1990      2000   \n",
       "Dummy for positive exp. in housekeeping     0.184      0.18   \n",
       "Housekeeping exp. |E>0 (1990 dollars)      212.21    207.38   \n",
       "(std)                                    (159.81)  (209.67)   \n",
       "\n",
       "                                        90 - 100th percentile            \\\n",
       "                                                         1980      1990   \n",
       "Dummy for positive exp. in housekeeping                 0.171     0.282   \n",
       "Housekeeping exp. |E>0 (1990 dollars)                  297.71    222.83   \n",
       "(std)                                                (447.86)  (153.29)   \n",
       "\n",
       "                                                   \n",
       "                                             2000  \n",
       "Dummy for positive exp. in housekeeping     0.263  \n",
       "Housekeeping exp. |E>0 (1990 dollars)       232.2  \n",
       "(std)                                    (254.28)  "
      ]
     },
     "execution_count": 10,
     "metadata": {},
     "output_type": "execute_result"
    }
   ],
   "source": [
    "table5=create_table5()\n",
    "table5"
   ]
  },
  {
   "cell_type": "markdown",
   "metadata": {},
   "source": [
    "## III. Empirical Analysis"
   ]
  },
  {
   "cell_type": "markdown",
   "metadata": {},
   "source": [
    "*A. Identification Strategy*"
   ]
  },
  {
   "cell_type": "markdown",
   "metadata": {},
   "source": [
    "*B. Instrument*"
   ]
  },
  {
   "cell_type": "code",
   "execution_count": 3,
   "metadata": {},
   "outputs": [
    {
     "name": "stderr",
     "output_type": "stream",
     "text": [
      "C:\\ProgramData\\Anaconda3\\lib\\site-packages\\statsmodels\\base\\model.py:1832: ValueWarning: covariance of constraints does not have full rank. The number of constraints is 135, but rank is 123\n",
      "  'rank is %d' % (J, J_), ValueWarning)\n",
      "C:\\ProgramData\\Anaconda3\\lib\\site-packages\\statsmodels\\base\\model.py:1832: ValueWarning: covariance of constraints does not have full rank. The number of constraints is 135, but rank is 132\n",
      "  'rank is %d' % (J, J_), ValueWarning)\n"
     ]
    },
    {
     "data": {
      "text/html": [
       "<div>\n",
       "<style scoped>\n",
       "    .dataframe tbody tr th:only-of-type {\n",
       "        vertical-align: middle;\n",
       "    }\n",
       "\n",
       "    .dataframe tbody tr th {\n",
       "        vertical-align: top;\n",
       "    }\n",
       "\n",
       "    .dataframe thead tr th {\n",
       "        text-align: left;\n",
       "    }\n",
       "</style>\n",
       "<table border=\"1\" class=\"dataframe\">\n",
       "  <thead>\n",
       "    <tr>\n",
       "      <th></th>\n",
       "      <th colspan=\"4\" halign=\"left\">ln[(LS Imm + LS Nat)/Labor Force]</th>\n",
       "    </tr>\n",
       "    <tr>\n",
       "      <th></th>\n",
       "      <th>(1)</th>\n",
       "      <th>(2)</th>\n",
       "      <th>(3)</th>\n",
       "      <th>(4)</th>\n",
       "    </tr>\n",
       "  </thead>\n",
       "  <tbody>\n",
       "    <tr>\n",
       "      <th>Log(∑share i,j,1970 × LS Imm jt)</th>\n",
       "      <td>0.207</td>\n",
       "      <td>0.189</td>\n",
       "      <td>0.188</td>\n",
       "      <td>0.2</td>\n",
       "    </tr>\n",
       "    <tr>\n",
       "      <th>(std)</th>\n",
       "      <td>0.06</td>\n",
       "      <td>0.056</td>\n",
       "      <td>0.068</td>\n",
       "      <td>0.067</td>\n",
       "    </tr>\n",
       "    <tr>\n",
       "      <th>Controls</th>\n",
       "      <td>Basic</td>\n",
       "      <td>Basic</td>\n",
       "      <td>Basic</td>\n",
       "      <td>Basic</td>\n",
       "    </tr>\n",
       "    <tr>\n",
       "      <th>Excludes California</th>\n",
       "      <td>No</td>\n",
       "      <td>Yes</td>\n",
       "      <td>No</td>\n",
       "      <td>No</td>\n",
       "    </tr>\n",
       "    <tr>\n",
       "      <th>Excludes Miami, New York City, and Los Angeles</th>\n",
       "      <td>No</td>\n",
       "      <td>No</td>\n",
       "      <td>Yes</td>\n",
       "      <td>No</td>\n",
       "    </tr>\n",
       "    <tr>\n",
       "      <th>Number of cities</th>\n",
       "      <td>116</td>\n",
       "      <td>104</td>\n",
       "      <td>113</td>\n",
       "      <td>116</td>\n",
       "    </tr>\n",
       "  </tbody>\n",
       "</table>\n",
       "</div>"
      ],
      "text/plain": [
       "                                                ln[(LS Imm + LS Nat)/Labor Force]  \\\n",
       "                                                                              (1)   \n",
       "Log(∑share i,j,1970 × LS Imm jt)                                            0.207   \n",
       "(std)                                                                        0.06   \n",
       "Controls                                                                    Basic   \n",
       "Excludes California                                                            No   \n",
       "Excludes Miami, New York City, and Los Angeles                                 No   \n",
       "Number of cities                                                              116   \n",
       "\n",
       "                                                                      \n",
       "                                                   (2)    (3)    (4)  \n",
       "Log(∑share i,j,1970 × LS Imm jt)                 0.189  0.188    0.2  \n",
       "(std)                                            0.056  0.068  0.067  \n",
       "Controls                                         Basic  Basic  Basic  \n",
       "Excludes California                                Yes     No     No  \n",
       "Excludes Miami, New York City, and Los Angeles      No    Yes     No  \n",
       "Number of cities                                   104    113    116  "
      ]
     },
     "execution_count": 3,
     "metadata": {},
     "output_type": "execute_result"
    }
   ],
   "source": [
    "wls1,wls2,wls3,wls4=get_reg_first_stage()\n",
    "table6=create_table6(wls1,wls2,wls3,wls4)\n",
    "table6"
   ]
  },
  {
   "cell_type": "markdown",
   "metadata": {},
   "source": [
    "*Notes: ln[(LS Imm + LS Nat)/Labor Force] = ln[(Low-skilled Immigrants + Low-skilled \n",
    "Natives)/Labor Force]. OLS estimates. Regressions are weighted by the city’s labor force size. \n",
    "City and region × decade fixed effects are included in all the regressions. Robust standard \n",
    "errors are reported in parentheses. Number of observations is number of cities multiplied by \n",
    "three. Additional controls are the following variables constructed for 1970 interacted with time \n",
    "dummies: share of workers in the agricultural sector, in the manufacturing sector, and in high \n",
    "skilled services sector, log of hourly wage of college graduate, share of women with a college \n",
    "degree, and LFP of college educated women.*"
   ]
  },
  {
   "cell_type": "markdown",
   "metadata": {},
   "source": [
    "*C. Econometric Specifications and results*"
   ]
  },
  {
   "cell_type": "code",
   "execution_count": 4,
   "metadata": {},
   "outputs": [],
   "source": [
    "df7,col_basic,col_add=data_table7()"
   ]
  },
  {
   "cell_type": "code",
   "execution_count": 5,
   "metadata": {},
   "outputs": [
    {
     "name": "stderr",
     "output_type": "stream",
     "text": [
      "C:\\ProgramData\\Anaconda3\\lib\\site-packages\\pandas\\core\\indexing.py:845: SettingWithCopyWarning: \n",
      "A value is trying to be set on a copy of a slice from a DataFrame.\n",
      "Try using .loc[row_indexer,col_indexer] = value instead\n",
      "\n",
      "See the caveats in the documentation: https://pandas.pydata.org/pandas-docs/stable/user_guide/indexing.html#returning-a-view-versus-a-copy\n",
      "  self.obj[key] = _infer_fill_value(value)\n",
      "C:\\ProgramData\\Anaconda3\\lib\\site-packages\\pandas\\core\\indexing.py:966: SettingWithCopyWarning: \n",
      "A value is trying to be set on a copy of a slice from a DataFrame.\n",
      "Try using .loc[row_indexer,col_indexer] = value instead\n",
      "\n",
      "See the caveats in the documentation: https://pandas.pydata.org/pandas-docs/stable/user_guide/indexing.html#returning-a-view-versus-a-copy\n",
      "  self.obj[item] = s\n"
     ]
    },
    {
     "ename": "MemoryError",
     "evalue": "Unable to allocate 954. MiB for an array with shape (880705, 142) and data type float64",
     "output_type": "error",
     "traceback": [
      "\u001b[1;31m---------------------------------------------------------------------------\u001b[0m",
      "\u001b[1;31mMemoryError\u001b[0m                               Traceback (most recent call last)",
      "\u001b[1;32m<ipython-input-5-c2c275c6a57a>\u001b[0m in \u001b[0;36m<module>\u001b[1;34m\u001b[0m\n\u001b[1;32m----> 1\u001b[1;33m \u001b[0mtable7\u001b[0m\u001b[1;33m=\u001b[0m\u001b[0mreg_table7\u001b[0m\u001b[1;33m(\u001b[0m\u001b[0mdf7\u001b[0m\u001b[1;33m,\u001b[0m\u001b[0mcol_basic\u001b[0m\u001b[1;33m,\u001b[0m\u001b[0mcol_add\u001b[0m\u001b[1;33m)\u001b[0m\u001b[1;33m\u001b[0m\u001b[1;33m\u001b[0m\u001b[0m\n\u001b[0m\u001b[0;32m      2\u001b[0m \u001b[0mtable7\u001b[0m\u001b[1;33m\u001b[0m\u001b[1;33m\u001b[0m\u001b[0m\n",
      "\u001b[1;32mD:\\RESEARK\\Project\\auxiliary\\auxiliary_regs.py\u001b[0m in \u001b[0;36mreg_table7\u001b[1;34m(df, col_basic, col_add)\u001b[0m\n\u001b[0;32m     99\u001b[0m \u001b[1;33m\u001b[0m\u001b[0m\n\u001b[0;32m    100\u001b[0m             \u001b[1;31m# OLS\u001b[0m\u001b[1;33m\u001b[0m\u001b[1;33m\u001b[0m\u001b[1;33m\u001b[0m\u001b[0m\n\u001b[1;32m--> 101\u001b[1;33m             \u001b[0mOLS\u001b[0m\u001b[1;33m[\u001b[0m\u001b[0mi\u001b[0m\u001b[1;33m]\u001b[0m\u001b[1;33m=\u001b[0m \u001b[0mwls\u001b[0m\u001b[1;33m(\u001b[0m\u001b[0mformula\u001b[0m\u001b[1;33m=\u001b[0m\u001b[0mformulaOLS\u001b[0m\u001b[1;33m,\u001b[0m\u001b[0mdata\u001b[0m\u001b[1;33m=\u001b[0m\u001b[0mdt\u001b[0m\u001b[1;33m,\u001b[0m\u001b[0mweights\u001b[0m\u001b[1;33m=\u001b[0m\u001b[0mw\u001b[0m\u001b[1;33m)\u001b[0m\u001b[1;33m.\u001b[0m\u001b[0mfit\u001b[0m\u001b[1;33m(\u001b[0m\u001b[0mcov_type\u001b[0m\u001b[1;33m=\u001b[0m\u001b[1;34m'cluster'\u001b[0m\u001b[1;33m,\u001b[0m\u001b[0mcov_kwds\u001b[0m\u001b[1;33m=\u001b[0m\u001b[1;33m{\u001b[0m\u001b[1;34m'groups'\u001b[0m\u001b[1;33m:\u001b[0m \u001b[0mdt\u001b[0m\u001b[1;33m[\u001b[0m\u001b[1;34m'metaready'\u001b[0m\u001b[1;33m]\u001b[0m\u001b[1;33m}\u001b[0m\u001b[1;33m,\u001b[0m\u001b[0mdf_correction\u001b[0m\u001b[1;33m=\u001b[0m\u001b[1;32mTrue\u001b[0m\u001b[1;33m)\u001b[0m\u001b[1;33m\u001b[0m\u001b[1;33m\u001b[0m\u001b[0m\n\u001b[0m\u001b[0;32m    102\u001b[0m \u001b[1;33m\u001b[0m\u001b[0m\n\u001b[0;32m    103\u001b[0m             \u001b[1;31m# Intrumental variables basic\u001b[0m\u001b[1;33m\u001b[0m\u001b[1;33m\u001b[0m\u001b[1;33m\u001b[0m\u001b[0m\n",
      "\u001b[1;32mC:\\ProgramData\\Anaconda3\\lib\\site-packages\\statsmodels\\regression\\linear_model.py\u001b[0m in \u001b[0;36mfit\u001b[1;34m(self, method, cov_type, cov_kwds, use_t, **kwargs)\u001b[0m\n\u001b[0;32m    303\u001b[0m                     hasattr(self, 'rank')):\n\u001b[0;32m    304\u001b[0m \u001b[1;33m\u001b[0m\u001b[0m\n\u001b[1;32m--> 305\u001b[1;33m                 \u001b[0mself\u001b[0m\u001b[1;33m.\u001b[0m\u001b[0mpinv_wexog\u001b[0m\u001b[1;33m,\u001b[0m \u001b[0msingular_values\u001b[0m \u001b[1;33m=\u001b[0m \u001b[0mpinv_extended\u001b[0m\u001b[1;33m(\u001b[0m\u001b[0mself\u001b[0m\u001b[1;33m.\u001b[0m\u001b[0mwexog\u001b[0m\u001b[1;33m)\u001b[0m\u001b[1;33m\u001b[0m\u001b[1;33m\u001b[0m\u001b[0m\n\u001b[0m\u001b[0;32m    306\u001b[0m                 self.normalized_cov_params = np.dot(\n\u001b[0;32m    307\u001b[0m                     self.pinv_wexog, np.transpose(self.pinv_wexog))\n",
      "\u001b[1;32mC:\\ProgramData\\Anaconda3\\lib\\site-packages\\statsmodels\\tools\\tools.py\u001b[0m in \u001b[0;36mpinv_extended\u001b[1;34m(X, rcond)\u001b[0m\n\u001b[0;32m    387\u001b[0m     \u001b[0mX\u001b[0m \u001b[1;33m=\u001b[0m \u001b[0mnp\u001b[0m\u001b[1;33m.\u001b[0m\u001b[0masarray\u001b[0m\u001b[1;33m(\u001b[0m\u001b[0mX\u001b[0m\u001b[1;33m)\u001b[0m\u001b[1;33m\u001b[0m\u001b[1;33m\u001b[0m\u001b[0m\n\u001b[0;32m    388\u001b[0m     \u001b[0mX\u001b[0m \u001b[1;33m=\u001b[0m \u001b[0mX\u001b[0m\u001b[1;33m.\u001b[0m\u001b[0mconjugate\u001b[0m\u001b[1;33m(\u001b[0m\u001b[1;33m)\u001b[0m\u001b[1;33m\u001b[0m\u001b[1;33m\u001b[0m\u001b[0m\n\u001b[1;32m--> 389\u001b[1;33m     \u001b[0mu\u001b[0m\u001b[1;33m,\u001b[0m \u001b[0ms\u001b[0m\u001b[1;33m,\u001b[0m \u001b[0mvt\u001b[0m \u001b[1;33m=\u001b[0m \u001b[0mnp\u001b[0m\u001b[1;33m.\u001b[0m\u001b[0mlinalg\u001b[0m\u001b[1;33m.\u001b[0m\u001b[0msvd\u001b[0m\u001b[1;33m(\u001b[0m\u001b[0mX\u001b[0m\u001b[1;33m,\u001b[0m \u001b[1;36m0\u001b[0m\u001b[1;33m)\u001b[0m\u001b[1;33m\u001b[0m\u001b[1;33m\u001b[0m\u001b[0m\n\u001b[0m\u001b[0;32m    390\u001b[0m     \u001b[0ms_orig\u001b[0m \u001b[1;33m=\u001b[0m \u001b[0mnp\u001b[0m\u001b[1;33m.\u001b[0m\u001b[0mcopy\u001b[0m\u001b[1;33m(\u001b[0m\u001b[0ms\u001b[0m\u001b[1;33m)\u001b[0m\u001b[1;33m\u001b[0m\u001b[1;33m\u001b[0m\u001b[0m\n\u001b[0;32m    391\u001b[0m     \u001b[0mm\u001b[0m \u001b[1;33m=\u001b[0m \u001b[0mu\u001b[0m\u001b[1;33m.\u001b[0m\u001b[0mshape\u001b[0m\u001b[1;33m[\u001b[0m\u001b[1;36m0\u001b[0m\u001b[1;33m]\u001b[0m\u001b[1;33m\u001b[0m\u001b[1;33m\u001b[0m\u001b[0m\n",
      "\u001b[1;32m<__array_function__ internals>\u001b[0m in \u001b[0;36msvd\u001b[1;34m(*args, **kwargs)\u001b[0m\n",
      "\u001b[1;32mC:\\ProgramData\\Anaconda3\\lib\\site-packages\\numpy\\linalg\\linalg.py\u001b[0m in \u001b[0;36msvd\u001b[1;34m(a, full_matrices, compute_uv, hermitian)\u001b[0m\n\u001b[0;32m   1624\u001b[0m \u001b[1;33m\u001b[0m\u001b[0m\n\u001b[0;32m   1625\u001b[0m         \u001b[0msignature\u001b[0m \u001b[1;33m=\u001b[0m \u001b[1;34m'D->DdD'\u001b[0m \u001b[1;32mif\u001b[0m \u001b[0misComplexType\u001b[0m\u001b[1;33m(\u001b[0m\u001b[0mt\u001b[0m\u001b[1;33m)\u001b[0m \u001b[1;32melse\u001b[0m \u001b[1;34m'd->ddd'\u001b[0m\u001b[1;33m\u001b[0m\u001b[1;33m\u001b[0m\u001b[0m\n\u001b[1;32m-> 1626\u001b[1;33m         \u001b[0mu\u001b[0m\u001b[1;33m,\u001b[0m \u001b[0ms\u001b[0m\u001b[1;33m,\u001b[0m \u001b[0mvh\u001b[0m \u001b[1;33m=\u001b[0m \u001b[0mgufunc\u001b[0m\u001b[1;33m(\u001b[0m\u001b[0ma\u001b[0m\u001b[1;33m,\u001b[0m \u001b[0msignature\u001b[0m\u001b[1;33m=\u001b[0m\u001b[0msignature\u001b[0m\u001b[1;33m,\u001b[0m \u001b[0mextobj\u001b[0m\u001b[1;33m=\u001b[0m\u001b[0mextobj\u001b[0m\u001b[1;33m)\u001b[0m\u001b[1;33m\u001b[0m\u001b[1;33m\u001b[0m\u001b[0m\n\u001b[0m\u001b[0;32m   1627\u001b[0m         \u001b[0mu\u001b[0m \u001b[1;33m=\u001b[0m \u001b[0mu\u001b[0m\u001b[1;33m.\u001b[0m\u001b[0mastype\u001b[0m\u001b[1;33m(\u001b[0m\u001b[0mresult_t\u001b[0m\u001b[1;33m,\u001b[0m \u001b[0mcopy\u001b[0m\u001b[1;33m=\u001b[0m\u001b[1;32mFalse\u001b[0m\u001b[1;33m)\u001b[0m\u001b[1;33m\u001b[0m\u001b[1;33m\u001b[0m\u001b[0m\n\u001b[0;32m   1628\u001b[0m         \u001b[0ms\u001b[0m \u001b[1;33m=\u001b[0m \u001b[0ms\u001b[0m\u001b[1;33m.\u001b[0m\u001b[0mastype\u001b[0m\u001b[1;33m(\u001b[0m\u001b[0m_realType\u001b[0m\u001b[1;33m(\u001b[0m\u001b[0mresult_t\u001b[0m\u001b[1;33m)\u001b[0m\u001b[1;33m,\u001b[0m \u001b[0mcopy\u001b[0m\u001b[1;33m=\u001b[0m\u001b[1;32mFalse\u001b[0m\u001b[1;33m)\u001b[0m\u001b[1;33m\u001b[0m\u001b[1;33m\u001b[0m\u001b[0m\n",
      "\u001b[1;31mMemoryError\u001b[0m: Unable to allocate 954. MiB for an array with shape (880705, 142) and data type float64"
     ]
    }
   ],
   "source": [
    "table7=reg_table7(df7,col_basic,col_add)\n",
    "table7"
   ]
  },
  {
   "cell_type": "markdown",
   "metadata": {},
   "source": [
    "***"
   ]
  }
 ],
 "metadata": {
  "kernelspec": {
   "display_name": "Python 3",
   "language": "python",
   "name": "python3"
  },
  "language_info": {
   "codemirror_mode": {
    "name": "ipython",
    "version": 3
   },
   "file_extension": ".py",
   "mimetype": "text/x-python",
   "name": "python",
   "nbconvert_exporter": "python",
   "pygments_lexer": "ipython3",
   "version": "3.7.7"
  }
 },
 "nbformat": 4,
 "nbformat_minor": 4
}
